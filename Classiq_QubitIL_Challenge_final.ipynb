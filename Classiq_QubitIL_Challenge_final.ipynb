{
 "cells": [
  {
   "cell_type": "markdown",
   "id": "58b8005b-5e7e-46dd-b3ec-e635eeb392cc",
   "metadata": {},
   "source": [
    "# QubitIL 2024 Hackathon Challenge by Classiq: \n",
    "# Developing an Advanced Quantum Algorithm: Approximating a Non-Linear Function"
   ]
  },
  {
   "cell_type": "markdown",
   "id": "51cbdf65-3718-4ddb-a40d-2b25efe5287f",
   "metadata": {},
   "source": [
    "Welcome to the Classiq challenge at the 2024 QubitIL Hackathon!\n",
    "\n",
    "This Jupyter notebook provides the framework for the challenge. Follow the steps and guidelines outlined in it to complete the challenge successfully. \n",
    "\n",
    "Good luck!\n",
    "\n"
   ]
  },
  {
   "cell_type": "markdown",
   "id": "3bd1b1d1-55f3-4bb3-b0bc-c2e82e84fc13",
   "metadata": {},
   "source": [
    "The notebook consists of three parts:\n",
    "\n",
    "1. The challenge, including what you need to create and submit, along with comprehensive guidelines and hints.\n",
    "\n",
    "2. Instructions for evaluating your solutions to the challenge.\n",
    "\n",
    "3. An optional hands-on preparation exercise to explore Classiq’s capabilities and gain initial ideas for approaching the challenge.\n",
    "\n"
   ]
  },
  {
   "cell_type": "markdown",
   "id": "07de83a2-af0b-4cb6-b8f7-8245b259c4e6",
   "metadata": {},
   "source": [
    "Additional resources available to you include:\n",
    "- The IDE of the classiq platform at [platform.classiq.io](https://platform.classiq.io/)\n",
    "- [Classiq's documentation](https://docs.classiq.io/latest/) with the dedicated [Classiq 101](https://docs.classiq.io/latest/classiq_101/)\n",
    "- Our [GitHub Repostory](https://github.com/Classiq/classiq-library)\n",
    "- The [community Slack of Classiq](https://short.classiq.io/join-slack) - where you can search for answers to previously asked questions and ask your own\n"
   ]
  },
  {
   "cell_type": "markdown",
   "id": "870a61f0-debe-4637-835d-7ef54428a1d2",
   "metadata": {},
   "source": [
    "## Introduction:"
   ]
  },
  {
   "cell_type": "markdown",
   "id": "22aca859-d3c3-4612-b0aa-7ac2966a6edb",
   "metadata": {},
   "source": [
    "The world we live in is inherently non-linear, and numerous industries conduct extensive research leveraging non-linear functions to solve complex problems and drive innovation. In the automotive sector, computational fluid dynamics is used to optimize vehicle efficiency and performance, while in the financial sector, non-linear payoff functions play a cardinal role in modeling and analyzing stock and derivative behaviors.\n",
    "\n",
    "As a result, non-linear functions such as trigonometric, hyperbolic, and fractional powers are indispensable in classical algorithm design. These complex arithmetic functions are often approximated using fundamental arithmetic operations like addition, subtraction, and multiplication applied to polynomial terms.\n",
    "\n",
    "Non-linear arithmetic functions also play a pivotal role in fault-tolerant quantum algorithms. For instance, the HHL algorithm incorporates an eigenvalue inversion block that relies on the $arcsin(1/x)$ function. The hyperbolic tangent $tanh(x)$ is utilized in applications like Gibbs state preparation in statistical mechanics. Similarly, the sine function $sin(x)$ frequently arises in wave equation solutions and appears in Hamiltonians of quantum systems with periodic potentials, which are instrumental for modeling conduction in metals. Furthermore, these functions can also serve as activation functions in quantum machine learning.\n",
    "\n",
    "Even on today’s NISQ devices, implementing generalized arithmetic functions proves valuable for benchmarking and exploring near-term algorithms. However, designing these functions for quantum systems is particularly challenging due to the difficulty of approximating non-linear functions on quantum computers, which inherently rely on linear operations. These implementations often necessitate the use of multiple auxiliary registers to enable out-of-place operations and ensure the accurate approximation of the desired functionality.\n",
    "\n",
    "Luckily, the Classiq platform allows you to focus on high-level algorithm design while the platform handles the complexities of optimization and implementation, simplifying the design of efficient quantum arithmetic algorithms and advanced quantum algorithms in general!"
   ]
  },
  {
   "cell_type": "markdown",
   "id": "a5794da4-7cb9-4368-ada5-c9d49426720c",
   "metadata": {},
   "source": [
    "## The Challenge:"
   ]
  },
  {
   "cell_type": "markdown",
   "id": "8736e31f-a2ed-4ba4-80f7-23d6632549b2",
   "metadata": {},
   "source": [
    "Your challenge is to design a quantum algorithm that accurately approximates $sin(x)$ over the domain $f(x):[0,1)\\rightarrow[0,1)$. \n",
    "\n",
    "The goal is to achieve maximum accuracy while optimizing for efficiency and minimizing circuit depth, adhering to the constraints of a quantum computer with up to $127$ qubits and a maximum allowable circuit depth of $30,000$. You may assume a logical quantum computer, where errors and error mitigation or correction are not considered."
   ]
  },
  {
   "cell_type": "markdown",
   "id": "802bf026-cce6-4b38-8a79-b636ef20015b",
   "metadata": {},
   "source": [
    "When designing an algorithm to tackle a complex problem, it is advisable to adopt a parametric, scalable approach that allows for initial testing on a smaller version of the problem to ensure correctness and feasibility before scaling it up to address the full-scale problem.\n",
    "\n",
    "The challenge consists of two stages:\n",
    "\n",
    "1. In the first part of the challenge, you are tasked with testing your designed algorithm using up to 25 qubits and a maximum circuit depth of 2,000. Once the circuit is synthesized, execute it on the Azure IonQ simulator. To assess the accuracy of your algorithm's approximation, the execution results can be evaluated against classically computed values of $sin(x)$ utilizing the `evaluate_score_prec` test function provided in the \"Evaluating Your Code\" section.\n",
    "\n",
    "2. In the second and final step, scale your algorithm to achieve the highest possible precision while maintaining the smallest circuit depth, using up to 127 qubits and a maximum depth of 30,000. \n",
    "\n",
    "Your code must be designed in a parametric manner, with precision passed as an adjustable parameter (refer to the algorithm-building guidelines in \"The Heart of the Code - Build Your Algorithm Here\" section). The solution will be evaluated based on the maximum accuracy achieved, as measured by the `evaluate_score_prec` test function, while also taking into account the efficiency, specifically the depth of the synthesized circuit. Additionally, the elegance and originality of the solution may be factored into the assessment of submissions.\n",
    "\n"
   ]
  },
  {
   "cell_type": "markdown",
   "id": "ac628951-84a3-43ee-a757-87665b60b94f",
   "metadata": {},
   "source": [
    "To address this challenge, you are required to construct an algorithm that performs the following operation:\n",
    "$$\n",
    "|x\\rangle_n\\rightarrow|x\\rangle_n|sin(x)\\rangle_m\n",
    "$$\n",
    "The precision of your input states ($|x\\rangle$), which corresponds to the number of fractional digits they represent, is determined by the number of qubits $n$, and can be implemented using the `allocate_num` built-in function demonstrated in the first part of the optional exercise. The precision of the $|sin(x)\\rangle$ states $m$ can be anything you want and might depend on the precision of the input states $n$.\n"
   ]
  },
  {
   "cell_type": "markdown",
   "id": "2423f796-99ca-4aec-b41c-f790beb1e3cb",
   "metadata": {},
   "source": [
    "### What You Need to Submit:"
   ]
  },
  {
   "cell_type": "markdown",
   "id": "891bcf5d-cb94-4d13-b3f2-6242bf68cfe2",
   "metadata": {},
   "source": [
    "The following files should be uploaded to [this Google form](https://fvrn0h72gwo.typeform.com/to/s8qsXJKj) (detailed instructions are provided in the link):\n",
    "\n",
    "1. This Jupyter notebook, containing your solution and precision values for both stages entered in the \"The Heart of the Code - Build Your Algorithm Here\" section, along with a comprehensive explanation of your solution.\n",
    "\n",
    "2. The maximal distance value produced by the `evaluate_score_prec` test function for the first stage.\n",
    "\n",
    "3. The quantum program for each stage as a .qprog file, incorporating the constraints and preferences specified for each stage.\n",
    "\n",
    "The quantum program can be extracted and saved using the following code after synthesizing your algorithm and assigning it to `quantum_program`. Make sure that the `program_name` is changed to correspond to the relevant stage:\n",
    "\n"
   ]
  },
  {
   "cell_type": "code",
   "execution_count": null,
   "id": "0df83e51-160a-4980-b986-aa4b174c9f7d",
   "metadata": {},
   "outputs": [],
   "source": [
    "def save_q_prog(program, file_name=\"program_name.qprog\"):  #TODO change `program_name` to your desired name for every stage\n",
    "    \"\"\"\n",
    "    Saves a quantum program to a .qprog file.\n",
    "\n",
    "    Args:\n",
    "        program: The quantum program to be saved (already prepared or synthesized).\n",
    "        file_name: The name of the .qprog file. Defaults to \"program_name.qprog\".\n",
    "                   Update this for each stage.\n",
    "\n",
    "    Returns:\n",
    "        None. Writes the quantum program to the specified file and prints a success or error message.\n",
    "    \"\"\"\n",
    "    try:\n",
    "        qprog = program\n",
    "\n",
    "        with open(file_name, \"w\") as file:\n",
    "            file.write(qprog)\n",
    "\n",
    "        print(f\"Quantum program saved successfully to {file_name}\")\n",
    "    except Exception as e:\n",
    "        print(f\"An error occurred while saving the quantum program: {e}\")\n",
    "        \n",
    "save_q_prog(quantum_program)"
   ]
  },
  {
   "cell_type": "markdown",
   "id": "360d299b-7e3a-4911-b1f9-a417f00bb862",
   "metadata": {},
   "source": [
    "### First Steps for Developing your Algorithm:"
   ]
  },
  {
   "cell_type": "markdown",
   "id": "55ff93aa-d6e4-40c6-ada2-0f281dc7335e",
   "metadata": {
    "jp-MarkdownHeadingCollapsed": true
   },
   "source": [
    "\n",
    "1. After reviewing the challenge description and submission requirements, you can explore the optional preparation exercise section at the bottom of this notebook to gather ideas and inspiration for constructing your algorithm.\n",
    "\n",
    "\n",
    "2. Next, go over the \"The Heart of the Code - Build Your Algorithm Here\" section to section to gain an understanding of the required format and structure for designing your algorithm.\n",
    "\n",
    "   \n",
    "3. Before starting to work on your algorithm, it is recommended to read the following paragraph for helpful tips and hints.\n"
   ]
  },
  {
   "cell_type": "markdown",
   "id": "42973351-27a3-4c57-a4e0-30beb330c389",
   "metadata": {},
   "source": [
    "### Tips and Hints:"
   ]
  },
  {
   "cell_type": "markdown",
   "id": "1c30a95f-97fb-4f74-9329-fc078cbb0e2b",
   "metadata": {},
   "source": [
    "There are various mathematical methods for approximating complex functions. One approach involves using the Taylor series of the function (if it exists) and truncating it at a certain level. \n",
    "\n",
    "Another method involves dividing the function's domain into small segments and approximating the function within each segment using a polynomial of a certain degree. The choice of the polynomial degree (linear, quadratic etc.) depends on the size of the segments selected and directly impacts the accuracy of the approximation.\n",
    "\n",
    "When approaching this challenge, a good starting point is to select the underlying approximation method you want to implement and consider how to utilize quantum properties to design an efficient quantum algorithm. Referring to the optional preparation exercise at the end of this notebook is recommended, as it offers valuable insights into implementing approximations on quantum computers using the Classiq high-level functional design paradigm.\n",
    "\n",
    "\n"
   ]
  },
  {
   "cell_type": "markdown",
   "id": "225f5fdc-34d3-4bc5-8eaa-0ea59a571476",
   "metadata": {},
   "source": [
    "## The Heart of the Code - Build Your Algorithm Here:"
   ]
  },
  {
   "cell_type": "markdown",
   "id": "2802a0e1-0ef3-4b39-9445-40a66c9c5183",
   "metadata": {},
   "source": [
    "All the following imports must be included before the main part of the code:"
   ]
  },
  {
   "cell_type": "code",
   "id": "2a1e418e-ffaa-45c0-bb54-01544c833ecc",
   "metadata": {
    "ExecuteTime": {
     "end_time": "2024-12-30T12:43:43.802254Z",
     "start_time": "2024-12-30T12:43:33.640591Z"
    }
   },
   "source": [
    "from classiq import *\n",
    "\n",
    "from classiq.execution import (ClassiqBackendPreferences,ExecutionPreferences,AzureCredential,AzureBackendPreferences)\n",
    "\n",
    "import numpy as np\n",
    "import json\n",
    "import math\n"
   ],
   "outputs": [],
   "execution_count": 1
  },
  {
   "cell_type": "markdown",
   "id": "ecf4079a-7343-45ad-8273-02a204a622ce",
   "metadata": {},
   "source": [
    "\n",
    "The following function `compute_sin` needs to appear in your code. You can add further variables to the function. Make sure to also take them into account when you call the function. \n",
    "\n",
    "Note: do not rename or remove the existing variables `x` and `sin_x`.\n"
   ]
  },
  {
   "metadata": {
    "ExecuteTime": {
     "end_time": "2024-12-30T11:12:32.105967Z",
     "start_time": "2024-12-30T11:12:32.102388Z"
    }
   },
   "cell_type": "code",
   "source": [
    "# @qfunc(generative=True)\n",
    "# def multiplicator(qubit1: QNum,                   # Do not change this declaration\n",
    "#                     qubit2: QNum,\n",
    "#                     factor: int\n",
    "#                ):\n",
    "#     qubit2 = qubit1 * qubit2 / factor"
   ],
   "id": "544de92a55785cd",
   "outputs": [],
   "execution_count": 88
  },
  {
   "metadata": {},
   "cell_type": "code",
   "outputs": [],
   "execution_count": null,
   "source": [
    "# @qfunc(generative=True)\n",
    "# def sumator(qubit1: QNum,                   # Do not change this declaration\n",
    "#                     qubit2: QNum\n",
    "#                ):\n",
    "#     outputQUbit |= qubit1 * qubit2 / factor"
   ],
   "id": "4663b8162a50b36f"
  },
  {
   "cell_type": "code",
   "id": "b90c1f5b-eaad-421c-b6cf-61fc262fc620",
   "metadata": {
    "ExecuteTime": {
     "end_time": "2024-12-30T11:39:53.845115Z",
     "start_time": "2024-12-30T11:39:53.840397Z"
    }
   },
   "source": [
    "# # The heart of the code - the function that calculates sin(x)\n",
    "# \n",
    "# @qfunc(generative=True)\n",
    "# def compute_sina(x: QNum,                   # Do not change this declaration\n",
    "#                  sin_x: Output[QNum],     # Do not change this declaration\n",
    "#                  tot_mult: Output[QNum],\n",
    "#                  precision: CInt,    #You can delete this declaration if you do not use it, and add further declarations\n",
    "#                ):\n",
    "#     # for i in range(1,10,2):\n",
    "#     allocate(10, tot_mult)\n",
    "#     # tot_sum = QNum('tot_sum', size = 10)\n",
    "#     tot_mult ^= 1\n",
    "#     for i in range(1,2,10):\n",
    "#         if i == 1:\n",
    "#             tot_mult ^= tot_mult * x / 1\n",
    "#             tot_mult ^= tot_mult * x / 1\n",
    "# \n",
    "#         else:\n",
    "#             tot_mult ^= tot_mult * x / (i*(i-1))\n",
    "#             tot_mult ^= tot_mult * x / 1\n",
    "# \n",
    "#         sin_x ^= sin_x + tot_mult\n",
    "#     sin_x ^= tot_sum    "
   ],
   "outputs": [],
   "execution_count": 122
  },
  {
   "metadata": {
    "ExecuteTime": {
     "end_time": "2024-12-30T14:43:46.600278Z",
     "start_time": "2024-12-30T14:43:46.594110Z"
    }
   },
   "cell_type": "code",
   "source": [
    "from classiq.qmod.symbolic import logical_and\n",
    "@qfunc(generative=True)\n",
    "def compute_sin(x: QNum,                   # Do not change this declaration\n",
    "                 sin_x: Output[QNum],     # Do not change this declaration\n",
    "                 precision: CInt,    #You can delete this declaration if you do not use it, and add further declarations\n",
    "               ):\n",
    "    # for i in range(1,10,2):\n",
    "    # allocate(10, sin_x, fraction_digits=9)\n",
    "    # within_apply(\n",
    "    #     within=lambda: assign(x*(-1), temp_xy),\n",
    "    #     apply=lambda: assign(sin_x+temp_xy, sin_x),\n",
    "    # )\n",
    "    # within_apply(\n",
    "    #     within=lambda: assign((x**3)/6, temp_xy),\n",
    "    #     apply=lambda: assign(sin_x+temp_xy, sin_x),\n",
    "    # ) \n",
    "    allocate_num(num_qubits=8 - precision,      \n",
    "                is_signed=False,            \n",
    "                fraction_digits=8 - precision,\n",
    "                out=sin_x)\n",
    "    repeat(\n",
    "    count=2**precision,\n",
    "    iteration=lambda index: \n",
    "     control(\n",
    "        ctrl= logical_and((index/(2**precision)<x),(x<(index+1)/(2**precision))),\n",
    "        stmt_block = lambda: inplace_xor(math.sin((index)/(2**precision)), sin_x)))\n"
   ],
   "id": "4590fefbf5be31a0",
   "outputs": [],
   "execution_count": 135
  },
  {
   "cell_type": "markdown",
   "id": "5fa2c568-86e1-4a03-b8b7-8f8c215c8295",
   "metadata": {},
   "source": [
    "For stage 1, the main function should be of the following form and include the additional synthesis constraints and execution preferences for running the quantum program on the Azure IonQ simulator without any issues.\n",
    "\n",
    "Note: the precision must be provided as a parameter named `precision_stage_#` while replacing the # with the relevant stage number. \n"
   ]
  },
  {
   "cell_type": "code",
   "id": "25c30918-0795-4d1b-a70f-00b2e50b86f1",
   "metadata": {
    "ExecuteTime": {
     "end_time": "2024-12-30T14:47:47.227497Z",
     "start_time": "2024-12-30T14:45:22.399142Z"
    }
   },
   "source": [
    "precision_stage_1 = 4 #TODO give your maximal precision parameter value\n",
    "\n",
    "@qfunc\n",
    "def main(x: Output[QNum],sin_x: Output[QNum]):\n",
    "\n",
    "    # A quantum variable which represents fractional numbers is initialized\n",
    "    allocate_num(num_qubits=precision_stage_1,      \n",
    "                is_signed=False,            \n",
    "                fraction_digits=precision_stage_1,\n",
    "                out=x)\n",
    "    \n",
    "    # creating a uniform superposition of all possible values of the quantum number by using a hadamard transform\n",
    "    hadamard_transform(x)\n",
    "    \n",
    "    # The central function for computing the approximation of sin(x) in the specified domain:\n",
    "    compute_sin(x,sin_x, precision_stage_1)\n",
    "\n",
    "# Generating the model\n",
    "qmod = create_model(main)\n",
    "\n",
    "# Setting constraints on the circuit synthesis engine\n",
    "qmod_with_constraints_stage_1 = set_constraints(qmod, Constraints(max_depth=20000, max_width=30))\n",
    "\n",
    "# Setting execution preferences for executing on the Azure IonQ simulator:\n",
    "shots = 1000\n",
    "backend = 'ionq.simulator'\n",
    "\n",
    "# Applying the given constraints and backend preferences to the model\n",
    "azure_preferences = AzureBackendPreferences(backend_name=backend,)\n",
    "azure_qmod_stage_1 = set_execution_preferences(qmod_with_constraints_stage_1, \n",
    "                                        ExecutionPreferences(\n",
    "                                            num_shots=shots)) \n",
    "                                            # backend_preferences=azure_preferences))\n",
    "\n",
    "# Synthesizing the model to a quantum program\n",
    "quantum_program = synthesize(azure_qmod_stage_1)\n",
    "show(quantum_program)\n",
    "\n"
   ],
   "outputs": [
    {
     "name": "stdout",
     "output_type": "stream",
     "text": [
      "Opening: https://platform.classiq.io/circuit/06b0bd91-af64-44db-8754-1c33d1859679?version=0.63.1\n"
     ]
    }
   ],
   "execution_count": 137
  },
  {
   "metadata": {
    "ExecuteTime": {
     "end_time": "2024-12-30T14:48:04.303153Z",
     "start_time": "2024-12-30T14:47:55.531121Z"
    }
   },
   "cell_type": "code",
   "source": [
    "# Executing the quantum program through Azure\n",
    "job = execute(quantum_program) \n",
    "\n",
    "# Extract parsed counts from the result\n",
    "res = job.get_sample_result()"
   ],
   "id": "3d82698583fb96c4",
   "outputs": [
    {
     "name": "stderr",
     "output_type": "stream",
     "text": [
      "Task exception was never retrieved\n",
      "future: <Task finished name='Task-227' coro=<synthesize_async() done, defined at C:\\Users\\Snoopy\\AppData\\Local\\Programs\\Python\\Python311\\Lib\\site-packages\\classiq\\synthesis.py:63> exception=ClassiqAPIError('Synthesis process reached timeout. Please try specifying a longer timeout in the synthesis preferences. Task that timed out: generation\\n\\nError identifier: E1EC5AA6B-04F7-4858-8134-E3AB4A7398B2.\\nIf you need further assistance, please reach out on our Community Slack channel at: https://short.classiq.io/join-slack')>\n",
      "Traceback (most recent call last):\n",
      "  File \"C:\\Users\\Snoopy\\AppData\\Local\\Programs\\Python\\Python311\\Lib\\asyncio\\tasks.py\", line 267, in __step\n",
      "    result = coro.send(None)\n",
      "             ^^^^^^^^^^^^^^^\n",
      "  File \"C:\\Users\\Snoopy\\AppData\\Local\\Programs\\Python\\Python311\\Lib\\site-packages\\classiq\\synthesis.py\", line 67, in synthesize_async\n",
      "    quantum_program = await ApiWrapper.call_generation_task(model)\n",
      "                      ^^^^^^^^^^^^^^^^^^^^^^^^^^^^^^^^^^^^^^^^^^^^\n",
      "  File \"C:\\Users\\Snoopy\\AppData\\Local\\Programs\\Python\\Python311\\Lib\\site-packages\\classiq\\_internals\\api_wrapper.py\", line 125, in call_generation_task\n",
      "    return _parse_job_response(result, generator_result.QuantumProgram)\n",
      "           ^^^^^^^^^^^^^^^^^^^^^^^^^^^^^^^^^^^^^^^^^^^^^^^^^^^^^^^^^^^^\n",
      "  File \"C:\\Users\\Snoopy\\AppData\\Local\\Programs\\Python\\Python311\\Lib\\site-packages\\classiq\\_internals\\api_wrapper.py\", line 61, in _parse_job_response\n",
      "    raise ClassiqAPIError(job_result.failure_details)\n",
      "classiq.interface.exceptions.ClassiqAPIError: Synthesis process reached timeout. Please try specifying a longer timeout in the synthesis preferences. Task that timed out: generation\n",
      "\n",
      "Error identifier: E1EC5AA6B-04F7-4858-8134-E3AB4A7398B2.\n",
      "If you need further assistance, please reach out on our Community Slack channel at: https://short.classiq.io/join-slack\n",
      "Task exception was never retrieved\n",
      "future: <Task finished name='Task-238' coro=<synthesize_async() done, defined at C:\\Users\\Snoopy\\AppData\\Local\\Programs\\Python\\Python311\\Lib\\site-packages\\classiq\\synthesis.py:63> exception=ClassiqAPIError(\"Could not find a solution that satisfies the constraints: Couldn't generate a circuit with satisfactory depth.\\nMinimal value found: 34017\\n\\nError identifier: ECD544A75-BC12-4537-833A-2C10ED5C04FE.\\nIf you need further assistance, please reach out on our Community Slack channel at: https://short.classiq.io/join-slack\")>\n",
      "Traceback (most recent call last):\n",
      "  File \"C:\\Users\\Snoopy\\AppData\\Local\\Programs\\Python\\Python311\\Lib\\asyncio\\tasks.py\", line 267, in __step\n",
      "    result = coro.send(None)\n",
      "             ^^^^^^^^^^^^^^^\n",
      "  File \"C:\\Users\\Snoopy\\AppData\\Local\\Programs\\Python\\Python311\\Lib\\site-packages\\classiq\\synthesis.py\", line 67, in synthesize_async\n",
      "    quantum_program = await ApiWrapper.call_generation_task(model)\n",
      "                      ^^^^^^^^^^^^^^^^^^^^^^^^^^^^^^^^^^^^^^^^^^^^\n",
      "  File \"C:\\Users\\Snoopy\\AppData\\Local\\Programs\\Python\\Python311\\Lib\\site-packages\\classiq\\_internals\\api_wrapper.py\", line 125, in call_generation_task\n",
      "    return _parse_job_response(result, generator_result.QuantumProgram)\n",
      "           ^^^^^^^^^^^^^^^^^^^^^^^^^^^^^^^^^^^^^^^^^^^^^^^^^^^^^^^^^^^^\n",
      "  File \"C:\\Users\\Snoopy\\AppData\\Local\\Programs\\Python\\Python311\\Lib\\site-packages\\classiq\\_internals\\api_wrapper.py\", line 61, in _parse_job_response\n",
      "    raise ClassiqAPIError(job_result.failure_details)\n",
      "classiq.interface.exceptions.ClassiqAPIError: Could not find a solution that satisfies the constraints: Couldn't generate a circuit with satisfactory depth.\n",
      "Minimal value found: 34017\n",
      "\n",
      "Error identifier: ECD544A75-BC12-4537-833A-2C10ED5C04FE.\n",
      "If you need further assistance, please reach out on our Community Slack channel at: https://short.classiq.io/join-slack\n",
      "Task exception was never retrieved\n",
      "future: <Task finished name='Task-296' coro=<synthesize_async() done, defined at C:\\Users\\Snoopy\\AppData\\Local\\Programs\\Python\\Python311\\Lib\\site-packages\\classiq\\synthesis.py:63> exception=ClassiqAPIError('Synthesis process reached timeout. Please try specifying a longer timeout in the synthesis preferences. Task that timed out: generation\\n\\nError identifier: EA678215B-CBD7-4C42-907F-C5C5651045A5.\\nIf you need further assistance, please reach out on our Community Slack channel at: https://short.classiq.io/join-slack')>\n",
      "Traceback (most recent call last):\n",
      "  File \"C:\\Users\\Snoopy\\AppData\\Local\\Programs\\Python\\Python311\\Lib\\asyncio\\tasks.py\", line 267, in __step\n",
      "    result = coro.send(None)\n",
      "             ^^^^^^^^^^^^^^^\n",
      "  File \"C:\\Users\\Snoopy\\AppData\\Local\\Programs\\Python\\Python311\\Lib\\site-packages\\classiq\\synthesis.py\", line 67, in synthesize_async\n",
      "    quantum_program = await ApiWrapper.call_generation_task(model)\n",
      "                      ^^^^^^^^^^^^^^^^^^^^^^^^^^^^^^^^^^^^^^^^^^^^\n",
      "  File \"C:\\Users\\Snoopy\\AppData\\Local\\Programs\\Python\\Python311\\Lib\\site-packages\\classiq\\_internals\\api_wrapper.py\", line 125, in call_generation_task\n",
      "    return _parse_job_response(result, generator_result.QuantumProgram)\n",
      "           ^^^^^^^^^^^^^^^^^^^^^^^^^^^^^^^^^^^^^^^^^^^^^^^^^^^^^^^^^^^^\n",
      "  File \"C:\\Users\\Snoopy\\AppData\\Local\\Programs\\Python\\Python311\\Lib\\site-packages\\classiq\\_internals\\api_wrapper.py\", line 61, in _parse_job_response\n",
      "    raise ClassiqAPIError(job_result.failure_details)\n",
      "classiq.interface.exceptions.ClassiqAPIError: Synthesis process reached timeout. Please try specifying a longer timeout in the synthesis preferences. Task that timed out: generation\n",
      "\n",
      "Error identifier: EA678215B-CBD7-4C42-907F-C5C5651045A5.\n",
      "If you need further assistance, please reach out on our Community Slack channel at: https://short.classiq.io/join-slack\n"
     ]
    }
   ],
   "execution_count": 138
  },
  {
   "cell_type": "markdown",
   "id": "410ee628-3dda-4c87-ad8e-113a534449df",
   "metadata": {},
   "source": [
    "Important note: the synthesized program must be named `quantum_program` for the evaluation code to properly assess the depth and width of the circuit. Additionally, the execution results of the circuit must be stored in a variable named `res` to enable the evaluation of the accuracy of the approximation results after execution (for stage 1 only).\n",
    "\n",
    "\n",
    "For your convenience, you can post-process the execution outputs of the first stage in this manner (in addition to evaluating the approximation using the `evaluate_score_prec` test function):\n"
   ]
  },
  {
   "cell_type": "code",
   "id": "9772bf90-8936-430c-809c-cfd18fff89e2",
   "metadata": {
    "ExecuteTime": {
     "end_time": "2024-12-30T12:28:07.608126Z",
     "start_time": "2024-12-30T12:28:07.599380Z"
    }
   },
   "source": [
    "# Extract states and their corresponding `x` values\n",
    "states_with_x = [\n",
    "    {\n",
    "        \"state\": state,\n",
    "        \"x\": res.parsed_states[state][\"x\"],\n",
    "        \"sin_x\": res.parsed_states[state][\"sin_x\"],\n",
    "        \"shots\": res.counts[state]\n",
    "    }\n",
    "    for state in res.counts\n",
    "]\n",
    "\n",
    "# Sort states by the value of `x`\n",
    "sorted_states = sorted(states_with_x, key=lambda s: s[\"x\"])\n",
    "\n",
    "# Print the sorted states and their shot counts\n",
    "for state in sorted_states:\n",
    "    print(f\"State: {state['state']} | x: {state['x']} | sin_x: {state['sin_x']} | Shots: {state['shots']}\")"
   ],
   "outputs": [
    {
     "name": "stdout",
     "output_type": "stream",
     "text": [
      "State: 0000000000000000000 | x: 0.0 | sin_x: 0.0 | Shots: 1\n",
      "State: 0000000000000000001 | x: 0.0009765625 | sin_x: 0.0 | Shots: 3\n",
      "State: 0000000000000000011 | x: 0.0029296875 | sin_x: 0.0 | Shots: 1\n",
      "State: 1111111110000000101 | x: 0.0048828125 | sin_x: -0.00390625 | Shots: 1\n",
      "State: 1111111110000000110 | x: 0.005859375 | sin_x: -0.00390625 | Shots: 3\n",
      "State: 1111111110000000111 | x: 0.0068359375 | sin_x: -0.00390625 | Shots: 1\n",
      "State: 1111111100000001010 | x: 0.009765625 | sin_x: -0.0078125 | Shots: 1\n",
      "State: 1111111010000001100 | x: 0.01171875 | sin_x: -0.01171875 | Shots: 1\n",
      "State: 1111111010000001111 | x: 0.0146484375 | sin_x: -0.01171875 | Shots: 3\n",
      "State: 1111111000000010010 | x: 0.017578125 | sin_x: -0.015625 | Shots: 1\n",
      "State: 1111111000000010011 | x: 0.0185546875 | sin_x: -0.015625 | Shots: 1\n",
      "State: 1111110110000010100 | x: 0.01953125 | sin_x: -0.01953125 | Shots: 2\n",
      "State: 1111110100000011000 | x: 0.0234375 | sin_x: -0.0234375 | Shots: 1\n",
      "State: 1111110100000011001 | x: 0.0244140625 | sin_x: -0.0234375 | Shots: 1\n",
      "State: 1111110100000011010 | x: 0.025390625 | sin_x: -0.0234375 | Shots: 2\n",
      "State: 1111110100000011011 | x: 0.0263671875 | sin_x: -0.0234375 | Shots: 2\n",
      "State: 1111110010000011100 | x: 0.02734375 | sin_x: -0.02734375 | Shots: 2\n",
      "State: 1111110010000011110 | x: 0.029296875 | sin_x: -0.02734375 | Shots: 3\n",
      "State: 1111110010000011111 | x: 0.0302734375 | sin_x: -0.02734375 | Shots: 1\n",
      "State: 1111110000000100001 | x: 0.0322265625 | sin_x: -0.03125 | Shots: 1\n",
      "State: 1111110000000100010 | x: 0.033203125 | sin_x: -0.03125 | Shots: 2\n",
      "State: 1111110000000100011 | x: 0.0341796875 | sin_x: -0.03125 | Shots: 1\n",
      "State: 1111101110000100100 | x: 0.03515625 | sin_x: -0.03515625 | Shots: 2\n",
      "State: 1111101110000100101 | x: 0.0361328125 | sin_x: -0.03515625 | Shots: 1\n",
      "State: 1111101110000100110 | x: 0.037109375 | sin_x: -0.03515625 | Shots: 2\n",
      "State: 1111101110000100111 | x: 0.0380859375 | sin_x: -0.03515625 | Shots: 1\n",
      "State: 1111101100000101001 | x: 0.0400390625 | sin_x: -0.0390625 | Shots: 2\n",
      "State: 1111101100000101010 | x: 0.041015625 | sin_x: -0.0390625 | Shots: 1\n",
      "State: 1111101010000101100 | x: 0.04296875 | sin_x: -0.04296875 | Shots: 1\n",
      "State: 1111101010000101101 | x: 0.0439453125 | sin_x: -0.04296875 | Shots: 2\n",
      "State: 1111101010000101110 | x: 0.044921875 | sin_x: -0.04296875 | Shots: 1\n",
      "State: 1111101010000101111 | x: 0.0458984375 | sin_x: -0.04296875 | Shots: 2\n",
      "State: 1111101000000110001 | x: 0.0478515625 | sin_x: -0.046875 | Shots: 1\n",
      "State: 1111101000000110010 | x: 0.048828125 | sin_x: -0.046875 | Shots: 2\n",
      "State: 1111101000000110011 | x: 0.0498046875 | sin_x: -0.046875 | Shots: 2\n",
      "State: 1111100110000110100 | x: 0.05078125 | sin_x: -0.05078125 | Shots: 2\n",
      "State: 1111100110000110101 | x: 0.0517578125 | sin_x: -0.05078125 | Shots: 2\n",
      "State: 1111100110000110110 | x: 0.052734375 | sin_x: -0.05078125 | Shots: 4\n",
      "State: 1111100100000111010 | x: 0.056640625 | sin_x: -0.0546875 | Shots: 3\n",
      "State: 1111100100000111011 | x: 0.0576171875 | sin_x: -0.0546875 | Shots: 1\n",
      "State: 1111100010000111100 | x: 0.05859375 | sin_x: -0.05859375 | Shots: 2\n",
      "State: 1111100010000111110 | x: 0.060546875 | sin_x: -0.05859375 | Shots: 2\n",
      "State: 1111100000001000011 | x: 0.0654296875 | sin_x: -0.0625 | Shots: 1\n",
      "State: 1111011110001000110 | x: 0.068359375 | sin_x: -0.06640625 | Shots: 2\n",
      "State: 1111011100001001000 | x: 0.0703125 | sin_x: -0.0703125 | Shots: 1\n",
      "State: 1111011100001001001 | x: 0.0712890625 | sin_x: -0.0703125 | Shots: 1\n",
      "State: 1111011100001001010 | x: 0.072265625 | sin_x: -0.0703125 | Shots: 1\n",
      "State: 1111011010001001101 | x: 0.0751953125 | sin_x: -0.07421875 | Shots: 2\n",
      "State: 1111011000001010000 | x: 0.078125 | sin_x: -0.078125 | Shots: 1\n",
      "State: 1111011000001010010 | x: 0.080078125 | sin_x: -0.078125 | Shots: 1\n",
      "State: 1111011000001010011 | x: 0.0810546875 | sin_x: -0.078125 | Shots: 1\n",
      "State: 1111010110001010100 | x: 0.08203125 | sin_x: -0.08203125 | Shots: 2\n",
      "State: 1111010110001010101 | x: 0.0830078125 | sin_x: -0.08203125 | Shots: 2\n",
      "State: 1111010110001010111 | x: 0.0849609375 | sin_x: -0.08203125 | Shots: 1\n",
      "State: 1111010100001011001 | x: 0.0869140625 | sin_x: -0.0859375 | Shots: 1\n",
      "State: 1111010100001011010 | x: 0.087890625 | sin_x: -0.0859375 | Shots: 1\n",
      "State: 1111010100001011011 | x: 0.0888671875 | sin_x: -0.0859375 | Shots: 2\n",
      "State: 1111010010001011100 | x: 0.08984375 | sin_x: -0.08984375 | Shots: 2\n",
      "State: 1111010010001011101 | x: 0.0908203125 | sin_x: -0.08984375 | Shots: 1\n",
      "State: 1111010010001011110 | x: 0.091796875 | sin_x: -0.08984375 | Shots: 3\n",
      "State: 1111010010001011111 | x: 0.0927734375 | sin_x: -0.08984375 | Shots: 1\n",
      "State: 1111010000001100010 | x: 0.095703125 | sin_x: -0.09375 | Shots: 2\n",
      "State: 1111001110001100100 | x: 0.09765625 | sin_x: -0.09765625 | Shots: 1\n",
      "State: 1111001110001100101 | x: 0.0986328125 | sin_x: -0.09765625 | Shots: 1\n",
      "State: 1111001110001100110 | x: 0.099609375 | sin_x: -0.09765625 | Shots: 1\n",
      "State: 1111001110001100111 | x: 0.1005859375 | sin_x: -0.09765625 | Shots: 1\n",
      "State: 1111001100001101000 | x: 0.1015625 | sin_x: -0.1015625 | Shots: 1\n",
      "State: 1111001100001101010 | x: 0.103515625 | sin_x: -0.1015625 | Shots: 1\n",
      "State: 1111001010001101101 | x: 0.1064453125 | sin_x: -0.10546875 | Shots: 1\n",
      "State: 1111001010001101111 | x: 0.1083984375 | sin_x: -0.10546875 | Shots: 1\n",
      "State: 1111001000001110011 | x: 0.1123046875 | sin_x: -0.109375 | Shots: 2\n",
      "State: 1111000110001110100 | x: 0.11328125 | sin_x: -0.11328125 | Shots: 1\n",
      "State: 1111000110001110111 | x: 0.1162109375 | sin_x: -0.11328125 | Shots: 1\n",
      "State: 1111000100001111000 | x: 0.1171875 | sin_x: -0.1171875 | Shots: 1\n",
      "State: 1111000100001111001 | x: 0.1181640625 | sin_x: -0.1171875 | Shots: 1\n",
      "State: 1111000100001111010 | x: 0.119140625 | sin_x: -0.1171875 | Shots: 2\n",
      "State: 1111000100001111011 | x: 0.1201171875 | sin_x: -0.1171875 | Shots: 1\n",
      "State: 1111000010001111100 | x: 0.12109375 | sin_x: -0.12109375 | Shots: 3\n",
      "State: 1111000010001111110 | x: 0.123046875 | sin_x: -0.12109375 | Shots: 1\n",
      "State: 1111000010001111111 | x: 0.1240234375 | sin_x: -0.12109375 | Shots: 1\n",
      "State: 1110111110010000100 | x: 0.12890625 | sin_x: -0.12890625 | Shots: 1\n",
      "State: 1110111110010000101 | x: 0.1298828125 | sin_x: -0.12890625 | Shots: 1\n",
      "State: 1110111110010000110 | x: 0.130859375 | sin_x: -0.12890625 | Shots: 1\n",
      "State: 1110111110010000111 | x: 0.1318359375 | sin_x: -0.12890625 | Shots: 2\n",
      "State: 1110111100010001000 | x: 0.1328125 | sin_x: -0.1328125 | Shots: 3\n",
      "State: 1110111100010001010 | x: 0.134765625 | sin_x: -0.1328125 | Shots: 3\n",
      "State: 1110111100010001011 | x: 0.1357421875 | sin_x: -0.1328125 | Shots: 2\n",
      "State: 1110111010010001101 | x: 0.1376953125 | sin_x: -0.13671875 | Shots: 1\n",
      "State: 1110111010010001110 | x: 0.138671875 | sin_x: -0.13671875 | Shots: 1\n",
      "State: 1110111010010001111 | x: 0.1396484375 | sin_x: -0.13671875 | Shots: 1\n",
      "State: 1110111000010010000 | x: 0.140625 | sin_x: -0.140625 | Shots: 1\n",
      "State: 1110111000010010001 | x: 0.1416015625 | sin_x: -0.140625 | Shots: 2\n",
      "State: 1110111000010010010 | x: 0.142578125 | sin_x: -0.140625 | Shots: 1\n",
      "State: 1110110110010010100 | x: 0.14453125 | sin_x: -0.14453125 | Shots: 1\n",
      "State: 1110110110010010101 | x: 0.1455078125 | sin_x: -0.14453125 | Shots: 1\n",
      "State: 1110110110010010111 | x: 0.1474609375 | sin_x: -0.14453125 | Shots: 2\n",
      "State: 1110110100010011001 | x: 0.1494140625 | sin_x: -0.1484375 | Shots: 2\n",
      "State: 1110110100010011010 | x: 0.150390625 | sin_x: -0.1484375 | Shots: 1\n",
      "State: 1110110010010011100 | x: 0.15234375 | sin_x: -0.15234375 | Shots: 1\n",
      "State: 1110110010010011101 | x: 0.1533203125 | sin_x: -0.15234375 | Shots: 2\n",
      "State: 1110110010010011110 | x: 0.154296875 | sin_x: -0.15234375 | Shots: 2\n",
      "State: 1110110010010011111 | x: 0.1552734375 | sin_x: -0.15234375 | Shots: 2\n",
      "State: 1110110000010100000 | x: 0.15625 | sin_x: -0.15625 | Shots: 2\n",
      "State: 1110110000010100010 | x: 0.158203125 | sin_x: -0.15625 | Shots: 1\n",
      "State: 1110110000010100011 | x: 0.1591796875 | sin_x: -0.15625 | Shots: 1\n",
      "State: 1110101110010100100 | x: 0.16015625 | sin_x: -0.16015625 | Shots: 1\n",
      "State: 1110101110010100101 | x: 0.1611328125 | sin_x: -0.16015625 | Shots: 1\n",
      "State: 1110101110010100110 | x: 0.162109375 | sin_x: -0.16015625 | Shots: 2\n",
      "State: 1110101110010100111 | x: 0.1630859375 | sin_x: -0.16015625 | Shots: 1\n",
      "State: 1110101100010101000 | x: 0.1640625 | sin_x: -0.1640625 | Shots: 5\n",
      "State: 1110101100010101001 | x: 0.1650390625 | sin_x: -0.1640625 | Shots: 1\n",
      "State: 1110101100010101010 | x: 0.166015625 | sin_x: -0.1640625 | Shots: 3\n",
      "State: 1110101010010101100 | x: 0.16796875 | sin_x: -0.16796875 | Shots: 1\n",
      "State: 1110101010010101101 | x: 0.1689453125 | sin_x: -0.16796875 | Shots: 2\n",
      "State: 1110101010010101110 | x: 0.169921875 | sin_x: -0.16796875 | Shots: 1\n",
      "State: 1110101010010101111 | x: 0.1708984375 | sin_x: -0.16796875 | Shots: 1\n",
      "State: 1110101000010110000 | x: 0.171875 | sin_x: -0.171875 | Shots: 1\n",
      "State: 1110101000010110001 | x: 0.1728515625 | sin_x: -0.171875 | Shots: 1\n",
      "State: 1110101000010110010 | x: 0.173828125 | sin_x: -0.171875 | Shots: 1\n",
      "State: 1110101000010110011 | x: 0.1748046875 | sin_x: -0.171875 | Shots: 1\n",
      "State: 1110100110010110101 | x: 0.1767578125 | sin_x: -0.17578125 | Shots: 2\n",
      "State: 1110100110010110111 | x: 0.1787109375 | sin_x: -0.17578125 | Shots: 2\n",
      "State: 1110100100010111000 | x: 0.1796875 | sin_x: -0.1796875 | Shots: 1\n",
      "State: 1110100100010111010 | x: 0.181640625 | sin_x: -0.1796875 | Shots: 1\n",
      "State: 1110100100010111011 | x: 0.1826171875 | sin_x: -0.1796875 | Shots: 3\n",
      "State: 1110100010010111100 | x: 0.18359375 | sin_x: -0.18359375 | Shots: 1\n",
      "State: 1110100010010111110 | x: 0.185546875 | sin_x: -0.18359375 | Shots: 1\n",
      "State: 1110100010010111111 | x: 0.1865234375 | sin_x: -0.18359375 | Shots: 2\n",
      "State: 1110011110011000101 | x: 0.1923828125 | sin_x: -0.19140625 | Shots: 1\n",
      "State: 1110011110011000110 | x: 0.193359375 | sin_x: -0.19140625 | Shots: 1\n",
      "State: 1110011110011000111 | x: 0.1943359375 | sin_x: -0.19140625 | Shots: 1\n",
      "State: 1110011100011001000 | x: 0.1953125 | sin_x: -0.1953125 | Shots: 1\n",
      "State: 1110011100011001001 | x: 0.1962890625 | sin_x: -0.1953125 | Shots: 1\n",
      "State: 1110011100011001010 | x: 0.197265625 | sin_x: -0.1953125 | Shots: 3\n",
      "State: 1110011010011001101 | x: 0.2001953125 | sin_x: -0.19921875 | Shots: 1\n",
      "State: 1110011010011001111 | x: 0.2021484375 | sin_x: -0.19921875 | Shots: 2\n",
      "State: 1110011000011010000 | x: 0.203125 | sin_x: -0.203125 | Shots: 1\n",
      "State: 1110011000011010001 | x: 0.2041015625 | sin_x: -0.203125 | Shots: 1\n",
      "State: 1110011000011010010 | x: 0.205078125 | sin_x: -0.203125 | Shots: 1\n",
      "State: 1110010110011010101 | x: 0.2080078125 | sin_x: -0.20703125 | Shots: 2\n",
      "State: 1110010110011010110 | x: 0.208984375 | sin_x: -0.20703125 | Shots: 3\n",
      "State: 1110010100011011000 | x: 0.2109375 | sin_x: -0.2109375 | Shots: 1\n",
      "State: 1110010100011011001 | x: 0.2119140625 | sin_x: -0.2109375 | Shots: 1\n",
      "State: 1110010010011011100 | x: 0.21484375 | sin_x: -0.21484375 | Shots: 2\n",
      "State: 1110010010011011101 | x: 0.2158203125 | sin_x: -0.21484375 | Shots: 1\n",
      "State: 1110010010011011111 | x: 0.2177734375 | sin_x: -0.21484375 | Shots: 2\n",
      "State: 1110010000011100010 | x: 0.220703125 | sin_x: -0.21875 | Shots: 1\n",
      "State: 1110010000011100011 | x: 0.2216796875 | sin_x: -0.21875 | Shots: 2\n",
      "State: 1110001110011100100 | x: 0.22265625 | sin_x: -0.22265625 | Shots: 3\n",
      "State: 1110001100011101001 | x: 0.2275390625 | sin_x: -0.2265625 | Shots: 1\n",
      "State: 1110001100011101011 | x: 0.2294921875 | sin_x: -0.2265625 | Shots: 4\n",
      "State: 1110001010011101100 | x: 0.23046875 | sin_x: -0.23046875 | Shots: 1\n",
      "State: 1110001010011101101 | x: 0.2314453125 | sin_x: -0.23046875 | Shots: 2\n",
      "State: 1110001010011101110 | x: 0.232421875 | sin_x: -0.23046875 | Shots: 1\n",
      "State: 1110001000011110000 | x: 0.234375 | sin_x: -0.234375 | Shots: 1\n",
      "State: 1110001000011110010 | x: 0.236328125 | sin_x: -0.234375 | Shots: 3\n",
      "State: 1110000110011110101 | x: 0.2392578125 | sin_x: -0.23828125 | Shots: 3\n",
      "State: 1110000110011110110 | x: 0.240234375 | sin_x: -0.23828125 | Shots: 1\n",
      "State: 1110000110011110111 | x: 0.2412109375 | sin_x: -0.23828125 | Shots: 1\n",
      "State: 1110000100011111000 | x: 0.2421875 | sin_x: -0.2421875 | Shots: 5\n",
      "State: 1110000100011111010 | x: 0.244140625 | sin_x: -0.2421875 | Shots: 4\n",
      "State: 1110000100011111011 | x: 0.2451171875 | sin_x: -0.2421875 | Shots: 2\n",
      "State: 1110000010011111100 | x: 0.24609375 | sin_x: -0.24609375 | Shots: 1\n",
      "State: 1110000010011111101 | x: 0.2470703125 | sin_x: -0.24609375 | Shots: 2\n",
      "State: 1110000010011111110 | x: 0.248046875 | sin_x: -0.24609375 | Shots: 2\n",
      "State: 1110000000100000000 | x: 0.25 | sin_x: -0.25 | Shots: 1\n",
      "State: 1110000000100000010 | x: 0.251953125 | sin_x: -0.25 | Shots: 1\n",
      "State: 1110000000100000011 | x: 0.2529296875 | sin_x: -0.25 | Shots: 2\n",
      "State: 1101111110100000100 | x: 0.25390625 | sin_x: -0.25390625 | Shots: 1\n",
      "State: 1101111110100000101 | x: 0.2548828125 | sin_x: -0.25390625 | Shots: 1\n",
      "State: 1101111110100000110 | x: 0.255859375 | sin_x: -0.25390625 | Shots: 2\n",
      "State: 1101111110100000111 | x: 0.2568359375 | sin_x: -0.25390625 | Shots: 2\n",
      "State: 1101111100100001001 | x: 0.2587890625 | sin_x: -0.2578125 | Shots: 1\n",
      "State: 1101111100100001010 | x: 0.259765625 | sin_x: -0.2578125 | Shots: 3\n",
      "State: 1101111100100001011 | x: 0.2607421875 | sin_x: -0.2578125 | Shots: 1\n",
      "State: 1101111010100001100 | x: 0.26171875 | sin_x: -0.26171875 | Shots: 1\n",
      "State: 1101111010100001101 | x: 0.2626953125 | sin_x: -0.26171875 | Shots: 1\n",
      "State: 1101111010100001110 | x: 0.263671875 | sin_x: -0.26171875 | Shots: 1\n",
      "State: 1101111010100001111 | x: 0.2646484375 | sin_x: -0.26171875 | Shots: 1\n",
      "State: 1101111000100010000 | x: 0.265625 | sin_x: -0.265625 | Shots: 2\n",
      "State: 1101111000100010010 | x: 0.267578125 | sin_x: -0.265625 | Shots: 2\n",
      "State: 1101111000100010011 | x: 0.2685546875 | sin_x: -0.265625 | Shots: 2\n",
      "State: 1101110110100010101 | x: 0.2705078125 | sin_x: -0.26953125 | Shots: 3\n",
      "State: 1101110100100011000 | x: 0.2734375 | sin_x: -0.2734375 | Shots: 1\n",
      "State: 1101110100100011001 | x: 0.2744140625 | sin_x: -0.2734375 | Shots: 3\n",
      "State: 1101110100100011010 | x: 0.275390625 | sin_x: -0.2734375 | Shots: 1\n",
      "State: 1101110010100011100 | x: 0.27734375 | sin_x: -0.27734375 | Shots: 2\n",
      "State: 1101110010100011111 | x: 0.2802734375 | sin_x: -0.27734375 | Shots: 2\n",
      "State: 1101110000100100000 | x: 0.28125 | sin_x: -0.28125 | Shots: 1\n",
      "State: 1101110000100100011 | x: 0.2841796875 | sin_x: -0.28125 | Shots: 3\n",
      "State: 1101101110100100100 | x: 0.28515625 | sin_x: -0.28515625 | Shots: 1\n",
      "State: 1101101100100101001 | x: 0.2900390625 | sin_x: -0.2890625 | Shots: 1\n",
      "State: 1101101100100101010 | x: 0.291015625 | sin_x: -0.2890625 | Shots: 1\n",
      "State: 1101101010100101100 | x: 0.29296875 | sin_x: -0.29296875 | Shots: 1\n",
      "State: 1101101010100101101 | x: 0.2939453125 | sin_x: -0.29296875 | Shots: 1\n",
      "State: 1101101010100101110 | x: 0.294921875 | sin_x: -0.29296875 | Shots: 1\n",
      "State: 1101101010100101111 | x: 0.2958984375 | sin_x: -0.29296875 | Shots: 1\n",
      "State: 1101101000100110000 | x: 0.296875 | sin_x: -0.296875 | Shots: 1\n",
      "State: 1101101000100110001 | x: 0.2978515625 | sin_x: -0.296875 | Shots: 1\n",
      "State: 1101101000100110010 | x: 0.298828125 | sin_x: -0.296875 | Shots: 1\n",
      "State: 1101101000100110011 | x: 0.2998046875 | sin_x: -0.296875 | Shots: 2\n",
      "State: 1101100110100110100 | x: 0.30078125 | sin_x: -0.30078125 | Shots: 1\n",
      "State: 1101100110100110101 | x: 0.3017578125 | sin_x: -0.30078125 | Shots: 2\n",
      "State: 1101100110100110110 | x: 0.302734375 | sin_x: -0.30078125 | Shots: 2\n",
      "State: 1101100100100111000 | x: 0.3046875 | sin_x: -0.3046875 | Shots: 1\n",
      "State: 1101100100100111001 | x: 0.3056640625 | sin_x: -0.3046875 | Shots: 3\n",
      "State: 1101100100100111010 | x: 0.306640625 | sin_x: -0.3046875 | Shots: 2\n",
      "State: 1101100010100111100 | x: 0.30859375 | sin_x: -0.30859375 | Shots: 1\n",
      "State: 1101100000101000001 | x: 0.3134765625 | sin_x: -0.3125 | Shots: 2\n",
      "State: 1101100000101000010 | x: 0.314453125 | sin_x: -0.3125 | Shots: 1\n",
      "State: 1101100000101000011 | x: 0.3154296875 | sin_x: -0.3125 | Shots: 1\n",
      "State: 1101011110101000100 | x: 0.31640625 | sin_x: -0.31640625 | Shots: 1\n",
      "State: 1101011110101000110 | x: 0.318359375 | sin_x: -0.31640625 | Shots: 2\n",
      "State: 1101011110101000111 | x: 0.3193359375 | sin_x: -0.31640625 | Shots: 1\n",
      "State: 1101011100101001000 | x: 0.3203125 | sin_x: -0.3203125 | Shots: 2\n",
      "State: 1101011100101001001 | x: 0.3212890625 | sin_x: -0.3203125 | Shots: 1\n",
      "State: 1101011100101001010 | x: 0.322265625 | sin_x: -0.3203125 | Shots: 1\n",
      "State: 1101011100101001011 | x: 0.3232421875 | sin_x: -0.3203125 | Shots: 1\n",
      "State: 1101011010101001100 | x: 0.32421875 | sin_x: -0.32421875 | Shots: 2\n",
      "State: 1101011010101001101 | x: 0.3251953125 | sin_x: -0.32421875 | Shots: 1\n",
      "State: 1101011010101001110 | x: 0.326171875 | sin_x: -0.32421875 | Shots: 2\n",
      "State: 1101011000101010000 | x: 0.328125 | sin_x: -0.328125 | Shots: 2\n",
      "State: 1101011000101010001 | x: 0.3291015625 | sin_x: -0.328125 | Shots: 1\n",
      "State: 1101011000101010011 | x: 0.3310546875 | sin_x: -0.328125 | Shots: 1\n",
      "State: 1101010110101010100 | x: 0.33203125 | sin_x: -0.33203125 | Shots: 2\n",
      "State: 1101010110101010101 | x: 0.3330078125 | sin_x: -0.33203125 | Shots: 1\n",
      "State: 1101010110101010111 | x: 0.3349609375 | sin_x: -0.33203125 | Shots: 2\n",
      "State: 1101010100101011000 | x: 0.3359375 | sin_x: -0.3359375 | Shots: 1\n",
      "State: 1101010100101011001 | x: 0.3369140625 | sin_x: -0.3359375 | Shots: 1\n",
      "State: 1101010100101011010 | x: 0.337890625 | sin_x: -0.3359375 | Shots: 3\n",
      "State: 1101010100101011011 | x: 0.3388671875 | sin_x: -0.3359375 | Shots: 2\n",
      "State: 1101010010101011100 | x: 0.33984375 | sin_x: -0.33984375 | Shots: 1\n",
      "State: 1101010010101011110 | x: 0.341796875 | sin_x: -0.33984375 | Shots: 3\n",
      "State: 1101010000101100001 | x: 0.3447265625 | sin_x: -0.34375 | Shots: 1\n",
      "State: 1101010000101100010 | x: 0.345703125 | sin_x: -0.34375 | Shots: 1\n",
      "State: 1101010000101100011 | x: 0.3466796875 | sin_x: -0.34375 | Shots: 4\n",
      "State: 1101001110101100110 | x: 0.349609375 | sin_x: -0.34765625 | Shots: 1\n",
      "State: 1101001110101100111 | x: 0.3505859375 | sin_x: -0.34765625 | Shots: 2\n",
      "State: 1101001100101101001 | x: 0.3525390625 | sin_x: -0.3515625 | Shots: 1\n",
      "State: 1101001100101101011 | x: 0.3544921875 | sin_x: -0.3515625 | Shots: 2\n",
      "State: 1101001010101101101 | x: 0.3564453125 | sin_x: -0.35546875 | Shots: 3\n",
      "State: 1101001010101101110 | x: 0.357421875 | sin_x: -0.35546875 | Shots: 1\n",
      "State: 1101001010101101111 | x: 0.3583984375 | sin_x: -0.35546875 | Shots: 1\n",
      "State: 1101001000101110000 | x: 0.359375 | sin_x: -0.359375 | Shots: 2\n",
      "State: 1101001000101110001 | x: 0.3603515625 | sin_x: -0.359375 | Shots: 2\n",
      "State: 1101001000101110011 | x: 0.3623046875 | sin_x: -0.359375 | Shots: 2\n",
      "State: 1101000110101110100 | x: 0.36328125 | sin_x: -0.36328125 | Shots: 3\n",
      "State: 1101000110101110110 | x: 0.365234375 | sin_x: -0.36328125 | Shots: 1\n",
      "State: 1101000100101111001 | x: 0.3681640625 | sin_x: -0.3671875 | Shots: 1\n",
      "State: 1101000010101111100 | x: 0.37109375 | sin_x: -0.37109375 | Shots: 1\n",
      "State: 1101000010101111101 | x: 0.3720703125 | sin_x: -0.37109375 | Shots: 3\n",
      "State: 1101000010101111110 | x: 0.373046875 | sin_x: -0.37109375 | Shots: 2\n",
      "State: 1101000010101111111 | x: 0.3740234375 | sin_x: -0.37109375 | Shots: 1\n",
      "State: 1101000000110000000 | x: 0.375 | sin_x: -0.375 | Shots: 3\n",
      "State: 1101000000110000011 | x: 0.3779296875 | sin_x: -0.375 | Shots: 2\n",
      "State: 1100111110110000100 | x: 0.37890625 | sin_x: -0.37890625 | Shots: 1\n",
      "State: 1100111110110000101 | x: 0.3798828125 | sin_x: -0.37890625 | Shots: 3\n",
      "State: 1100111110110000110 | x: 0.380859375 | sin_x: -0.37890625 | Shots: 2\n",
      "State: 1100111100110001000 | x: 0.3828125 | sin_x: -0.3828125 | Shots: 2\n",
      "State: 1100111100110001010 | x: 0.384765625 | sin_x: -0.3828125 | Shots: 1\n",
      "State: 1100111010110001110 | x: 0.388671875 | sin_x: -0.38671875 | Shots: 1\n",
      "State: 1100111000110010000 | x: 0.390625 | sin_x: -0.390625 | Shots: 1\n",
      "State: 1100111000110010010 | x: 0.392578125 | sin_x: -0.390625 | Shots: 1\n",
      "State: 1100111000110010011 | x: 0.3935546875 | sin_x: -0.390625 | Shots: 2\n",
      "State: 1100110110110010101 | x: 0.3955078125 | sin_x: -0.39453125 | Shots: 2\n",
      "State: 1100110110110010111 | x: 0.3974609375 | sin_x: -0.39453125 | Shots: 1\n",
      "State: 1100110100110011000 | x: 0.3984375 | sin_x: -0.3984375 | Shots: 1\n",
      "State: 1100110100110011001 | x: 0.3994140625 | sin_x: -0.3984375 | Shots: 1\n",
      "State: 1100110100110011011 | x: 0.4013671875 | sin_x: -0.3984375 | Shots: 2\n",
      "State: 1100110010110011100 | x: 0.40234375 | sin_x: -0.40234375 | Shots: 3\n",
      "State: 1100110010110011111 | x: 0.4052734375 | sin_x: -0.40234375 | Shots: 2\n",
      "State: 1100110000110100000 | x: 0.40625 | sin_x: -0.40625 | Shots: 1\n",
      "State: 1100110000110100010 | x: 0.408203125 | sin_x: -0.40625 | Shots: 3\n",
      "State: 1100101110110100100 | x: 0.41015625 | sin_x: -0.41015625 | Shots: 1\n",
      "State: 1100101110110100101 | x: 0.4111328125 | sin_x: -0.41015625 | Shots: 1\n",
      "State: 1100101110110100110 | x: 0.412109375 | sin_x: -0.41015625 | Shots: 1\n",
      "State: 1100101100110101000 | x: 0.4140625 | sin_x: -0.4140625 | Shots: 3\n",
      "State: 1100101100110101001 | x: 0.4150390625 | sin_x: -0.4140625 | Shots: 1\n",
      "State: 1100101100110101010 | x: 0.416015625 | sin_x: -0.4140625 | Shots: 2\n",
      "State: 1100101010110101101 | x: 0.4189453125 | sin_x: -0.41796875 | Shots: 2\n",
      "State: 1100101010110101110 | x: 0.419921875 | sin_x: -0.41796875 | Shots: 2\n",
      "State: 1100101000110110000 | x: 0.421875 | sin_x: -0.421875 | Shots: 2\n",
      "State: 1100101000110110001 | x: 0.4228515625 | sin_x: -0.421875 | Shots: 3\n",
      "State: 1100101000110110010 | x: 0.423828125 | sin_x: -0.421875 | Shots: 2\n",
      "State: 1100101000110110011 | x: 0.4248046875 | sin_x: -0.421875 | Shots: 2\n",
      "State: 1100100110110110110 | x: 0.427734375 | sin_x: -0.42578125 | Shots: 2\n",
      "State: 1100100100110111000 | x: 0.4296875 | sin_x: -0.4296875 | Shots: 1\n",
      "State: 1100100100110111001 | x: 0.4306640625 | sin_x: -0.4296875 | Shots: 3\n",
      "State: 1100100100110111011 | x: 0.4326171875 | sin_x: -0.4296875 | Shots: 2\n",
      "State: 1100100010110111100 | x: 0.43359375 | sin_x: -0.43359375 | Shots: 1\n",
      "State: 1100100010110111110 | x: 0.435546875 | sin_x: -0.43359375 | Shots: 2\n",
      "State: 1100100010110111111 | x: 0.4365234375 | sin_x: -0.43359375 | Shots: 4\n",
      "State: 1100100000111000000 | x: 0.4375 | sin_x: -0.4375 | Shots: 1\n",
      "State: 1100100000111000001 | x: 0.4384765625 | sin_x: -0.4375 | Shots: 1\n",
      "State: 1100011110111000101 | x: 0.4423828125 | sin_x: -0.44140625 | Shots: 1\n",
      "State: 1100011100111001010 | x: 0.447265625 | sin_x: -0.4453125 | Shots: 1\n",
      "State: 1100011010111001100 | x: 0.44921875 | sin_x: -0.44921875 | Shots: 2\n",
      "State: 1100011010111001101 | x: 0.4501953125 | sin_x: -0.44921875 | Shots: 1\n",
      "State: 1100011010111001111 | x: 0.4521484375 | sin_x: -0.44921875 | Shots: 1\n",
      "State: 1100011000111010000 | x: 0.453125 | sin_x: -0.453125 | Shots: 2\n",
      "State: 1100011000111010001 | x: 0.4541015625 | sin_x: -0.453125 | Shots: 1\n",
      "State: 1100011000111010010 | x: 0.455078125 | sin_x: -0.453125 | Shots: 1\n",
      "State: 1100011000111010011 | x: 0.4560546875 | sin_x: -0.453125 | Shots: 1\n",
      "State: 1100010110111010111 | x: 0.4599609375 | sin_x: -0.45703125 | Shots: 1\n",
      "State: 1100010100111011000 | x: 0.4609375 | sin_x: -0.4609375 | Shots: 1\n",
      "State: 1100010100111011010 | x: 0.462890625 | sin_x: -0.4609375 | Shots: 1\n",
      "State: 1100010100111011011 | x: 0.4638671875 | sin_x: -0.4609375 | Shots: 3\n",
      "State: 1100010010111011100 | x: 0.46484375 | sin_x: -0.46484375 | Shots: 1\n",
      "State: 1100010010111011101 | x: 0.4658203125 | sin_x: -0.46484375 | Shots: 1\n",
      "State: 1100001110111100100 | x: 0.47265625 | sin_x: -0.47265625 | Shots: 1\n",
      "State: 1100001110111100101 | x: 0.4736328125 | sin_x: -0.47265625 | Shots: 1\n",
      "State: 1100001110111100111 | x: 0.4755859375 | sin_x: -0.47265625 | Shots: 1\n",
      "State: 1100001100111101001 | x: 0.4775390625 | sin_x: -0.4765625 | Shots: 1\n",
      "State: 1100001010111101100 | x: 0.48046875 | sin_x: -0.48046875 | Shots: 1\n",
      "State: 1100001010111101101 | x: 0.4814453125 | sin_x: -0.48046875 | Shots: 2\n",
      "State: 1100001010111101111 | x: 0.4833984375 | sin_x: -0.48046875 | Shots: 2\n",
      "State: 1100001000111110001 | x: 0.4853515625 | sin_x: -0.484375 | Shots: 2\n",
      "State: 1100001000111110010 | x: 0.486328125 | sin_x: -0.484375 | Shots: 4\n",
      "State: 1100001000111110011 | x: 0.4873046875 | sin_x: -0.484375 | Shots: 1\n",
      "State: 1100000110111110100 | x: 0.48828125 | sin_x: -0.48828125 | Shots: 2\n",
      "State: 1100000110111110101 | x: 0.4892578125 | sin_x: -0.48828125 | Shots: 1\n",
      "State: 1100000110111110110 | x: 0.490234375 | sin_x: -0.48828125 | Shots: 1\n",
      "State: 1100000110111110111 | x: 0.4912109375 | sin_x: -0.48828125 | Shots: 1\n",
      "State: 1100000100111111000 | x: 0.4921875 | sin_x: -0.4921875 | Shots: 1\n",
      "State: 1100000100111111001 | x: 0.4931640625 | sin_x: -0.4921875 | Shots: 1\n",
      "State: 1100000100111111010 | x: 0.494140625 | sin_x: -0.4921875 | Shots: 1\n",
      "State: 1100000100111111011 | x: 0.4951171875 | sin_x: -0.4921875 | Shots: 3\n",
      "State: 1100000010111111101 | x: 0.4970703125 | sin_x: -0.49609375 | Shots: 1\n",
      "State: 1100000010111111110 | x: 0.498046875 | sin_x: -0.49609375 | Shots: 1\n",
      "State: 1100000001000000001 | x: 0.5009765625 | sin_x: -0.5 | Shots: 2\n",
      "State: 1100000001000000010 | x: 0.501953125 | sin_x: -0.5 | Shots: 1\n",
      "State: 1011111111000000100 | x: 0.50390625 | sin_x: -0.50390625 | Shots: 2\n",
      "State: 1011111111000000101 | x: 0.5048828125 | sin_x: -0.50390625 | Shots: 1\n",
      "State: 1011111111000000110 | x: 0.505859375 | sin_x: -0.50390625 | Shots: 1\n",
      "State: 1011111101000001001 | x: 0.5087890625 | sin_x: -0.5078125 | Shots: 2\n",
      "State: 1011111101000001010 | x: 0.509765625 | sin_x: -0.5078125 | Shots: 2\n",
      "State: 1011111101000001011 | x: 0.5107421875 | sin_x: -0.5078125 | Shots: 1\n",
      "State: 1011111011000001100 | x: 0.51171875 | sin_x: -0.51171875 | Shots: 1\n",
      "State: 1011111011000001101 | x: 0.5126953125 | sin_x: -0.51171875 | Shots: 1\n",
      "State: 1011111011000001110 | x: 0.513671875 | sin_x: -0.51171875 | Shots: 1\n",
      "State: 1011111011000001111 | x: 0.5146484375 | sin_x: -0.51171875 | Shots: 2\n",
      "State: 1011111001000010001 | x: 0.5166015625 | sin_x: -0.515625 | Shots: 2\n",
      "State: 1011111001000010010 | x: 0.517578125 | sin_x: -0.515625 | Shots: 1\n",
      "State: 1011111001000010011 | x: 0.5185546875 | sin_x: -0.515625 | Shots: 2\n",
      "State: 1011110111000010100 | x: 0.51953125 | sin_x: -0.51953125 | Shots: 1\n",
      "State: 1011110111000010110 | x: 0.521484375 | sin_x: -0.51953125 | Shots: 1\n",
      "State: 1011110101000011001 | x: 0.5244140625 | sin_x: -0.5234375 | Shots: 1\n",
      "State: 1011110101000011010 | x: 0.525390625 | sin_x: -0.5234375 | Shots: 1\n",
      "State: 1011110011000011100 | x: 0.52734375 | sin_x: -0.52734375 | Shots: 1\n",
      "State: 1011110011000011101 | x: 0.5283203125 | sin_x: -0.52734375 | Shots: 1\n",
      "State: 1011110011000011110 | x: 0.529296875 | sin_x: -0.52734375 | Shots: 1\n",
      "State: 1011110011000011111 | x: 0.5302734375 | sin_x: -0.52734375 | Shots: 2\n",
      "State: 1011101111000100100 | x: 0.53515625 | sin_x: -0.53515625 | Shots: 1\n",
      "State: 1011101101000101000 | x: 0.5390625 | sin_x: -0.5390625 | Shots: 1\n",
      "State: 1011101101000101010 | x: 0.541015625 | sin_x: -0.5390625 | Shots: 1\n",
      "State: 1011101011000101100 | x: 0.54296875 | sin_x: -0.54296875 | Shots: 2\n",
      "State: 1011101001000110000 | x: 0.546875 | sin_x: -0.546875 | Shots: 2\n",
      "State: 1011101001000110001 | x: 0.5478515625 | sin_x: -0.546875 | Shots: 1\n",
      "State: 1011101001000110011 | x: 0.5498046875 | sin_x: -0.546875 | Shots: 1\n",
      "State: 1011100101000111000 | x: 0.5546875 | sin_x: -0.5546875 | Shots: 3\n",
      "State: 1011100101000111010 | x: 0.556640625 | sin_x: -0.5546875 | Shots: 1\n",
      "State: 1011100101000111011 | x: 0.5576171875 | sin_x: -0.5546875 | Shots: 1\n",
      "State: 1011100011000111110 | x: 0.560546875 | sin_x: -0.55859375 | Shots: 2\n",
      "State: 1011100011000111111 | x: 0.5615234375 | sin_x: -0.55859375 | Shots: 1\n",
      "State: 1011100001001000011 | x: 0.5654296875 | sin_x: -0.5625 | Shots: 1\n",
      "State: 1011011111001000100 | x: 0.56640625 | sin_x: -0.56640625 | Shots: 1\n",
      "State: 1011011111001000101 | x: 0.5673828125 | sin_x: -0.56640625 | Shots: 1\n",
      "State: 1011011111001000110 | x: 0.568359375 | sin_x: -0.56640625 | Shots: 1\n",
      "State: 1011011111001000111 | x: 0.5693359375 | sin_x: -0.56640625 | Shots: 1\n",
      "State: 1011011101001001000 | x: 0.5703125 | sin_x: -0.5703125 | Shots: 1\n",
      "State: 1011011101001001001 | x: 0.5712890625 | sin_x: -0.5703125 | Shots: 1\n",
      "State: 1011011011001001100 | x: 0.57421875 | sin_x: -0.57421875 | Shots: 2\n",
      "State: 1011011011001001111 | x: 0.5771484375 | sin_x: -0.57421875 | Shots: 2\n",
      "State: 1011011001001010000 | x: 0.578125 | sin_x: -0.578125 | Shots: 1\n",
      "State: 1011011001001010010 | x: 0.580078125 | sin_x: -0.578125 | Shots: 2\n",
      "State: 1011011001001010011 | x: 0.5810546875 | sin_x: -0.578125 | Shots: 2\n",
      "State: 1011010111001010101 | x: 0.5830078125 | sin_x: -0.58203125 | Shots: 1\n",
      "State: 1011010111001010110 | x: 0.583984375 | sin_x: -0.58203125 | Shots: 2\n",
      "State: 1011010111001010111 | x: 0.5849609375 | sin_x: -0.58203125 | Shots: 2\n",
      "State: 1011010101001011000 | x: 0.5859375 | sin_x: -0.5859375 | Shots: 2\n",
      "State: 1011010101001011010 | x: 0.587890625 | sin_x: -0.5859375 | Shots: 2\n",
      "State: 1011010101001011011 | x: 0.5888671875 | sin_x: -0.5859375 | Shots: 1\n",
      "State: 1011010011001011101 | x: 0.5908203125 | sin_x: -0.58984375 | Shots: 1\n",
      "State: 1011010011001011110 | x: 0.591796875 | sin_x: -0.58984375 | Shots: 2\n",
      "State: 1011010011001011111 | x: 0.5927734375 | sin_x: -0.58984375 | Shots: 2\n",
      "State: 1011010001001100011 | x: 0.5966796875 | sin_x: -0.59375 | Shots: 1\n",
      "State: 1011001111001100101 | x: 0.5986328125 | sin_x: -0.59765625 | Shots: 2\n",
      "State: 1011001111001100110 | x: 0.599609375 | sin_x: -0.59765625 | Shots: 2\n",
      "State: 1011001111001100111 | x: 0.6005859375 | sin_x: -0.59765625 | Shots: 1\n",
      "State: 1011001101001101001 | x: 0.6025390625 | sin_x: -0.6015625 | Shots: 1\n",
      "State: 1011001101001101010 | x: 0.603515625 | sin_x: -0.6015625 | Shots: 1\n",
      "State: 1011001101001101011 | x: 0.6044921875 | sin_x: -0.6015625 | Shots: 1\n",
      "State: 1011001011001101110 | x: 0.607421875 | sin_x: -0.60546875 | Shots: 1\n",
      "State: 1011001011001101111 | x: 0.6083984375 | sin_x: -0.60546875 | Shots: 1\n",
      "State: 1011001001001110000 | x: 0.609375 | sin_x: -0.609375 | Shots: 2\n",
      "State: 1011001001001110001 | x: 0.6103515625 | sin_x: -0.609375 | Shots: 2\n",
      "State: 1011001001001110010 | x: 0.611328125 | sin_x: -0.609375 | Shots: 2\n",
      "State: 1011000111001110100 | x: 0.61328125 | sin_x: -0.61328125 | Shots: 2\n",
      "State: 1011000111001110101 | x: 0.6142578125 | sin_x: -0.61328125 | Shots: 2\n",
      "State: 1011000111001110111 | x: 0.6162109375 | sin_x: -0.61328125 | Shots: 2\n",
      "State: 1011000101001111000 | x: 0.6171875 | sin_x: -0.6171875 | Shots: 1\n",
      "State: 1011000101001111010 | x: 0.619140625 | sin_x: -0.6171875 | Shots: 1\n",
      "State: 1011000101001111011 | x: 0.6201171875 | sin_x: -0.6171875 | Shots: 2\n",
      "State: 1011000011001111101 | x: 0.6220703125 | sin_x: -0.62109375 | Shots: 1\n",
      "State: 1011000011001111110 | x: 0.623046875 | sin_x: -0.62109375 | Shots: 1\n",
      "State: 1011000001010000000 | x: 0.625 | sin_x: -0.625 | Shots: 2\n",
      "State: 1011000001010000001 | x: 0.6259765625 | sin_x: -0.625 | Shots: 2\n",
      "State: 1011000001010000010 | x: 0.626953125 | sin_x: -0.625 | Shots: 1\n",
      "State: 1010111111010000110 | x: 0.630859375 | sin_x: -0.62890625 | Shots: 3\n",
      "State: 1010111111010000111 | x: 0.6318359375 | sin_x: -0.62890625 | Shots: 1\n",
      "State: 1010111101010001000 | x: 0.6328125 | sin_x: -0.6328125 | Shots: 1\n",
      "State: 1010111101010001001 | x: 0.6337890625 | sin_x: -0.6328125 | Shots: 1\n",
      "State: 1010111011010001101 | x: 0.6376953125 | sin_x: -0.63671875 | Shots: 1\n",
      "State: 1010111011010001110 | x: 0.638671875 | sin_x: -0.63671875 | Shots: 1\n",
      "State: 1010111011010001111 | x: 0.6396484375 | sin_x: -0.63671875 | Shots: 2\n",
      "State: 1010111001010010000 | x: 0.640625 | sin_x: -0.640625 | Shots: 1\n",
      "State: 1010111001010010001 | x: 0.6416015625 | sin_x: -0.640625 | Shots: 2\n",
      "State: 1010111001010010010 | x: 0.642578125 | sin_x: -0.640625 | Shots: 2\n",
      "State: 1010111001010010011 | x: 0.6435546875 | sin_x: -0.640625 | Shots: 2\n",
      "State: 1010110111010010100 | x: 0.64453125 | sin_x: -0.64453125 | Shots: 3\n",
      "State: 1010110111010010101 | x: 0.6455078125 | sin_x: -0.64453125 | Shots: 2\n",
      "State: 1010110111010010110 | x: 0.646484375 | sin_x: -0.64453125 | Shots: 1\n",
      "State: 1010110111010010111 | x: 0.6474609375 | sin_x: -0.64453125 | Shots: 1\n",
      "State: 1010110101010011000 | x: 0.6484375 | sin_x: -0.6484375 | Shots: 1\n",
      "State: 1010110011010011111 | x: 0.6552734375 | sin_x: -0.65234375 | Shots: 1\n",
      "State: 1010110001010100001 | x: 0.6572265625 | sin_x: -0.65625 | Shots: 1\n",
      "State: 1010110001010100010 | x: 0.658203125 | sin_x: -0.65625 | Shots: 1\n",
      "State: 1010110001010100011 | x: 0.6591796875 | sin_x: -0.65625 | Shots: 1\n",
      "State: 1010101111010100101 | x: 0.6611328125 | sin_x: -0.66015625 | Shots: 3\n",
      "State: 1010101111010100110 | x: 0.662109375 | sin_x: -0.66015625 | Shots: 1\n",
      "State: 1010101111010100111 | x: 0.6630859375 | sin_x: -0.66015625 | Shots: 2\n",
      "State: 1010101101010101000 | x: 0.6640625 | sin_x: -0.6640625 | Shots: 2\n",
      "State: 1010101101010101001 | x: 0.6650390625 | sin_x: -0.6640625 | Shots: 4\n",
      "State: 1010101101010101010 | x: 0.666015625 | sin_x: -0.6640625 | Shots: 1\n",
      "State: 1010101011010101101 | x: 0.6689453125 | sin_x: -0.66796875 | Shots: 1\n",
      "State: 1010101011010101110 | x: 0.669921875 | sin_x: -0.66796875 | Shots: 1\n",
      "State: 1010101001010110000 | x: 0.671875 | sin_x: -0.671875 | Shots: 1\n",
      "State: 1010101001010110010 | x: 0.673828125 | sin_x: -0.671875 | Shots: 2\n",
      "State: 1010101001010110011 | x: 0.6748046875 | sin_x: -0.671875 | Shots: 2\n",
      "State: 1010100111010110110 | x: 0.677734375 | sin_x: -0.67578125 | Shots: 3\n",
      "State: 1010100111010110111 | x: 0.6787109375 | sin_x: -0.67578125 | Shots: 1\n",
      "State: 1010100101010111000 | x: 0.6796875 | sin_x: -0.6796875 | Shots: 1\n",
      "State: 1010100101010111001 | x: 0.6806640625 | sin_x: -0.6796875 | Shots: 1\n",
      "State: 1010100101010111010 | x: 0.681640625 | sin_x: -0.6796875 | Shots: 2\n",
      "State: 1010100011010111110 | x: 0.685546875 | sin_x: -0.68359375 | Shots: 1\n",
      "State: 1010100011010111111 | x: 0.6865234375 | sin_x: -0.68359375 | Shots: 1\n",
      "State: 1010100001011000010 | x: 0.689453125 | sin_x: -0.6875 | Shots: 2\n",
      "State: 1010100001011000011 | x: 0.6904296875 | sin_x: -0.6875 | Shots: 3\n",
      "State: 1010011111011000100 | x: 0.69140625 | sin_x: -0.69140625 | Shots: 1\n",
      "State: 1010011111011000101 | x: 0.6923828125 | sin_x: -0.69140625 | Shots: 2\n",
      "State: 1010011111011000111 | x: 0.6943359375 | sin_x: -0.69140625 | Shots: 1\n",
      "State: 1010011101011001010 | x: 0.697265625 | sin_x: -0.6953125 | Shots: 2\n",
      "State: 1010011101011001011 | x: 0.6982421875 | sin_x: -0.6953125 | Shots: 1\n",
      "State: 1010011011011001110 | x: 0.701171875 | sin_x: -0.69921875 | Shots: 1\n",
      "State: 1010011001011010000 | x: 0.703125 | sin_x: -0.703125 | Shots: 2\n",
      "State: 1010011001011010011 | x: 0.7060546875 | sin_x: -0.703125 | Shots: 1\n",
      "State: 1010010111011010100 | x: 0.70703125 | sin_x: -0.70703125 | Shots: 1\n",
      "State: 1010010111011010101 | x: 0.7080078125 | sin_x: -0.70703125 | Shots: 1\n",
      "State: 1010010101011011000 | x: 0.7109375 | sin_x: -0.7109375 | Shots: 2\n",
      "State: 1010010011011011100 | x: 0.71484375 | sin_x: -0.71484375 | Shots: 1\n",
      "State: 1010010011011011101 | x: 0.7158203125 | sin_x: -0.71484375 | Shots: 1\n",
      "State: 1010010011011011110 | x: 0.716796875 | sin_x: -0.71484375 | Shots: 1\n",
      "State: 1010010011011011111 | x: 0.7177734375 | sin_x: -0.71484375 | Shots: 2\n",
      "State: 1010010001011100000 | x: 0.71875 | sin_x: -0.71875 | Shots: 1\n",
      "State: 1010010001011100001 | x: 0.7197265625 | sin_x: -0.71875 | Shots: 2\n",
      "State: 1010001111011100101 | x: 0.7236328125 | sin_x: -0.72265625 | Shots: 1\n",
      "State: 1010001101011101000 | x: 0.7265625 | sin_x: -0.7265625 | Shots: 1\n",
      "State: 1010001101011101010 | x: 0.728515625 | sin_x: -0.7265625 | Shots: 1\n",
      "State: 1010001011011101100 | x: 0.73046875 | sin_x: -0.73046875 | Shots: 1\n",
      "State: 1010001011011101111 | x: 0.7333984375 | sin_x: -0.73046875 | Shots: 2\n",
      "State: 1010001001011110000 | x: 0.734375 | sin_x: -0.734375 | Shots: 1\n",
      "State: 1010001001011110001 | x: 0.7353515625 | sin_x: -0.734375 | Shots: 2\n",
      "State: 1010000111011110100 | x: 0.73828125 | sin_x: -0.73828125 | Shots: 2\n",
      "State: 1010000111011110111 | x: 0.7412109375 | sin_x: -0.73828125 | Shots: 3\n",
      "State: 1010000101011111000 | x: 0.7421875 | sin_x: -0.7421875 | Shots: 1\n",
      "State: 1010000101011111011 | x: 0.7451171875 | sin_x: -0.7421875 | Shots: 1\n",
      "State: 1010000011011111100 | x: 0.74609375 | sin_x: -0.74609375 | Shots: 1\n",
      "State: 1010000011011111101 | x: 0.7470703125 | sin_x: -0.74609375 | Shots: 1\n",
      "State: 1010000011011111111 | x: 0.7490234375 | sin_x: -0.74609375 | Shots: 1\n",
      "State: 1010000001100000000 | x: 0.75 | sin_x: -0.75 | Shots: 2\n",
      "State: 1010000001100000001 | x: 0.7509765625 | sin_x: -0.75 | Shots: 1\n",
      "State: 1010000001100000011 | x: 0.7529296875 | sin_x: -0.75 | Shots: 2\n",
      "State: 1001111111100000110 | x: 0.755859375 | sin_x: -0.75390625 | Shots: 2\n",
      "State: 1001111101100001000 | x: 0.7578125 | sin_x: -0.7578125 | Shots: 1\n",
      "State: 1001111101100001001 | x: 0.7587890625 | sin_x: -0.7578125 | Shots: 3\n",
      "State: 1001111101100001010 | x: 0.759765625 | sin_x: -0.7578125 | Shots: 2\n",
      "State: 1001111101100001011 | x: 0.7607421875 | sin_x: -0.7578125 | Shots: 1\n",
      "State: 1001111011100001111 | x: 0.7646484375 | sin_x: -0.76171875 | Shots: 2\n",
      "State: 1001111001100010000 | x: 0.765625 | sin_x: -0.765625 | Shots: 1\n",
      "State: 1001111001100010001 | x: 0.7666015625 | sin_x: -0.765625 | Shots: 1\n",
      "State: 1001111001100010010 | x: 0.767578125 | sin_x: -0.765625 | Shots: 1\n",
      "State: 1001111001100010011 | x: 0.7685546875 | sin_x: -0.765625 | Shots: 3\n",
      "State: 1001110111100010101 | x: 0.7705078125 | sin_x: -0.76953125 | Shots: 1\n",
      "State: 1001110111100010111 | x: 0.7724609375 | sin_x: -0.76953125 | Shots: 2\n",
      "State: 1001110101100011000 | x: 0.7734375 | sin_x: -0.7734375 | Shots: 2\n",
      "State: 1001110101100011001 | x: 0.7744140625 | sin_x: -0.7734375 | Shots: 1\n",
      "State: 1001110101100011010 | x: 0.775390625 | sin_x: -0.7734375 | Shots: 2\n",
      "State: 1001110101100011011 | x: 0.7763671875 | sin_x: -0.7734375 | Shots: 1\n",
      "State: 1001110011100011110 | x: 0.779296875 | sin_x: -0.77734375 | Shots: 1\n",
      "State: 1001110011100011111 | x: 0.7802734375 | sin_x: -0.77734375 | Shots: 1\n",
      "State: 1001110001100100010 | x: 0.783203125 | sin_x: -0.78125 | Shots: 3\n",
      "State: 1001101111100100100 | x: 0.78515625 | sin_x: -0.78515625 | Shots: 1\n",
      "State: 1001101111100100101 | x: 0.7861328125 | sin_x: -0.78515625 | Shots: 1\n",
      "State: 1001101111100100110 | x: 0.787109375 | sin_x: -0.78515625 | Shots: 2\n",
      "State: 1001101101100101001 | x: 0.7900390625 | sin_x: -0.7890625 | Shots: 2\n",
      "State: 1001101011100101100 | x: 0.79296875 | sin_x: -0.79296875 | Shots: 1\n",
      "State: 1001101011100101101 | x: 0.7939453125 | sin_x: -0.79296875 | Shots: 3\n",
      "State: 1001101011100101111 | x: 0.7958984375 | sin_x: -0.79296875 | Shots: 3\n",
      "State: 1001101001100110010 | x: 0.798828125 | sin_x: -0.796875 | Shots: 1\n",
      "State: 1001101001100110011 | x: 0.7998046875 | sin_x: -0.796875 | Shots: 3\n",
      "State: 1001100111100110100 | x: 0.80078125 | sin_x: -0.80078125 | Shots: 3\n",
      "State: 1001100111100110111 | x: 0.8037109375 | sin_x: -0.80078125 | Shots: 1\n",
      "State: 1001100101100111000 | x: 0.8046875 | sin_x: -0.8046875 | Shots: 2\n",
      "State: 1001100101100111001 | x: 0.8056640625 | sin_x: -0.8046875 | Shots: 2\n",
      "State: 1001100101100111010 | x: 0.806640625 | sin_x: -0.8046875 | Shots: 1\n",
      "State: 1001100101100111011 | x: 0.8076171875 | sin_x: -0.8046875 | Shots: 1\n",
      "State: 1001100011100111100 | x: 0.80859375 | sin_x: -0.80859375 | Shots: 1\n",
      "State: 1001100011100111101 | x: 0.8095703125 | sin_x: -0.80859375 | Shots: 1\n",
      "State: 1001100011100111110 | x: 0.810546875 | sin_x: -0.80859375 | Shots: 3\n",
      "State: 1001100011100111111 | x: 0.8115234375 | sin_x: -0.80859375 | Shots: 2\n",
      "State: 1001100001101000000 | x: 0.8125 | sin_x: -0.8125 | Shots: 2\n",
      "State: 1001100001101000001 | x: 0.8134765625 | sin_x: -0.8125 | Shots: 1\n",
      "State: 1001100001101000010 | x: 0.814453125 | sin_x: -0.8125 | Shots: 1\n",
      "State: 1001100001101000011 | x: 0.8154296875 | sin_x: -0.8125 | Shots: 1\n",
      "State: 1001011111101000100 | x: 0.81640625 | sin_x: -0.81640625 | Shots: 1\n",
      "State: 1001011111101000101 | x: 0.8173828125 | sin_x: -0.81640625 | Shots: 2\n",
      "State: 1001011111101000110 | x: 0.818359375 | sin_x: -0.81640625 | Shots: 1\n",
      "State: 1001011101101001010 | x: 0.822265625 | sin_x: -0.8203125 | Shots: 2\n",
      "State: 1001011101101001011 | x: 0.8232421875 | sin_x: -0.8203125 | Shots: 1\n",
      "State: 1001011011101001101 | x: 0.8251953125 | sin_x: -0.82421875 | Shots: 2\n",
      "State: 1001011011101001110 | x: 0.826171875 | sin_x: -0.82421875 | Shots: 1\n",
      "State: 1001011011101001111 | x: 0.8271484375 | sin_x: -0.82421875 | Shots: 1\n",
      "State: 1001011001101010001 | x: 0.8291015625 | sin_x: -0.828125 | Shots: 1\n",
      "State: 1001011001101010010 | x: 0.830078125 | sin_x: -0.828125 | Shots: 1\n",
      "State: 1001010111101010100 | x: 0.83203125 | sin_x: -0.83203125 | Shots: 1\n",
      "State: 1001010111101010111 | x: 0.8349609375 | sin_x: -0.83203125 | Shots: 1\n",
      "State: 1001010101101011010 | x: 0.837890625 | sin_x: -0.8359375 | Shots: 2\n",
      "State: 1001010011101011101 | x: 0.8408203125 | sin_x: -0.83984375 | Shots: 1\n",
      "State: 1001010011101011110 | x: 0.841796875 | sin_x: -0.83984375 | Shots: 1\n",
      "State: 1001010001101100001 | x: 0.8447265625 | sin_x: -0.84375 | Shots: 1\n",
      "State: 1001010001101100010 | x: 0.845703125 | sin_x: -0.84375 | Shots: 4\n",
      "State: 1001010001101100011 | x: 0.8466796875 | sin_x: -0.84375 | Shots: 1\n",
      "State: 1001001111101100100 | x: 0.84765625 | sin_x: -0.84765625 | Shots: 1\n",
      "State: 1001001111101100110 | x: 0.849609375 | sin_x: -0.84765625 | Shots: 1\n",
      "State: 1001001111101100111 | x: 0.8505859375 | sin_x: -0.84765625 | Shots: 1\n",
      "State: 1001001101101101000 | x: 0.8515625 | sin_x: -0.8515625 | Shots: 1\n",
      "State: 1001001101101101001 | x: 0.8525390625 | sin_x: -0.8515625 | Shots: 2\n",
      "State: 1001001101101101010 | x: 0.853515625 | sin_x: -0.8515625 | Shots: 2\n",
      "State: 1001001101101101011 | x: 0.8544921875 | sin_x: -0.8515625 | Shots: 1\n",
      "State: 1001001011101101100 | x: 0.85546875 | sin_x: -0.85546875 | Shots: 1\n",
      "State: 1001001011101101110 | x: 0.857421875 | sin_x: -0.85546875 | Shots: 1\n",
      "State: 1001001011101101111 | x: 0.8583984375 | sin_x: -0.85546875 | Shots: 3\n",
      "State: 1001001001101110000 | x: 0.859375 | sin_x: -0.859375 | Shots: 1\n",
      "State: 1001001001101110001 | x: 0.8603515625 | sin_x: -0.859375 | Shots: 1\n",
      "State: 1001001001101110010 | x: 0.861328125 | sin_x: -0.859375 | Shots: 1\n",
      "State: 1001000111101110100 | x: 0.86328125 | sin_x: -0.86328125 | Shots: 1\n",
      "State: 1001000111101110111 | x: 0.8662109375 | sin_x: -0.86328125 | Shots: 1\n",
      "State: 1001000101101111001 | x: 0.8681640625 | sin_x: -0.8671875 | Shots: 1\n",
      "State: 1001000101101111010 | x: 0.869140625 | sin_x: -0.8671875 | Shots: 3\n",
      "State: 1001000101101111011 | x: 0.8701171875 | sin_x: -0.8671875 | Shots: 1\n",
      "State: 1001000011101111100 | x: 0.87109375 | sin_x: -0.87109375 | Shots: 1\n",
      "State: 1001000011101111110 | x: 0.873046875 | sin_x: -0.87109375 | Shots: 2\n",
      "State: 1001000001110000000 | x: 0.875 | sin_x: -0.875 | Shots: 1\n",
      "State: 1001000001110000001 | x: 0.8759765625 | sin_x: -0.875 | Shots: 1\n",
      "State: 1001000001110000010 | x: 0.876953125 | sin_x: -0.875 | Shots: 2\n",
      "State: 1000111111110000100 | x: 0.87890625 | sin_x: -0.87890625 | Shots: 1\n",
      "State: 1000111111110000101 | x: 0.8798828125 | sin_x: -0.87890625 | Shots: 2\n",
      "State: 1000111111110000110 | x: 0.880859375 | sin_x: -0.87890625 | Shots: 1\n",
      "State: 1000111101110001000 | x: 0.8828125 | sin_x: -0.8828125 | Shots: 1\n",
      "State: 1000111101110001010 | x: 0.884765625 | sin_x: -0.8828125 | Shots: 2\n",
      "State: 1000111011110001100 | x: 0.88671875 | sin_x: -0.88671875 | Shots: 2\n",
      "State: 1000111011110001101 | x: 0.8876953125 | sin_x: -0.88671875 | Shots: 1\n",
      "State: 1000111011110001110 | x: 0.888671875 | sin_x: -0.88671875 | Shots: 2\n",
      "State: 1000111011110001111 | x: 0.8896484375 | sin_x: -0.88671875 | Shots: 1\n",
      "State: 1000111001110010001 | x: 0.8916015625 | sin_x: -0.890625 | Shots: 2\n",
      "State: 1000111001110010011 | x: 0.8935546875 | sin_x: -0.890625 | Shots: 1\n",
      "State: 1000110111110010100 | x: 0.89453125 | sin_x: -0.89453125 | Shots: 2\n",
      "State: 1000110111110010101 | x: 0.8955078125 | sin_x: -0.89453125 | Shots: 2\n",
      "State: 1000110111110010110 | x: 0.896484375 | sin_x: -0.89453125 | Shots: 2\n",
      "State: 1000110111110010111 | x: 0.8974609375 | sin_x: -0.89453125 | Shots: 2\n",
      "State: 1000110101110011011 | x: 0.9013671875 | sin_x: -0.8984375 | Shots: 1\n",
      "State: 1000110011110011100 | x: 0.90234375 | sin_x: -0.90234375 | Shots: 2\n",
      "State: 1000110011110011101 | x: 0.9033203125 | sin_x: -0.90234375 | Shots: 1\n",
      "State: 1000110011110011110 | x: 0.904296875 | sin_x: -0.90234375 | Shots: 1\n",
      "State: 1000110011110011111 | x: 0.9052734375 | sin_x: -0.90234375 | Shots: 1\n",
      "State: 1000110001110100001 | x: 0.9072265625 | sin_x: -0.90625 | Shots: 1\n",
      "State: 1000110001110100011 | x: 0.9091796875 | sin_x: -0.90625 | Shots: 1\n",
      "State: 1000101111110100101 | x: 0.9111328125 | sin_x: -0.91015625 | Shots: 2\n",
      "State: 1000101111110100110 | x: 0.912109375 | sin_x: -0.91015625 | Shots: 3\n",
      "State: 1000101101110101000 | x: 0.9140625 | sin_x: -0.9140625 | Shots: 2\n",
      "State: 1000101101110101001 | x: 0.9150390625 | sin_x: -0.9140625 | Shots: 1\n",
      "State: 1000101011110101110 | x: 0.919921875 | sin_x: -0.91796875 | Shots: 1\n",
      "State: 1000101011110101111 | x: 0.9208984375 | sin_x: -0.91796875 | Shots: 1\n",
      "State: 1000101001110110000 | x: 0.921875 | sin_x: -0.921875 | Shots: 1\n",
      "State: 1000101001110110001 | x: 0.9228515625 | sin_x: -0.921875 | Shots: 1\n",
      "State: 1000101001110110011 | x: 0.9248046875 | sin_x: -0.921875 | Shots: 1\n",
      "State: 1000100111110110100 | x: 0.92578125 | sin_x: -0.92578125 | Shots: 2\n",
      "State: 1000100111110110101 | x: 0.9267578125 | sin_x: -0.92578125 | Shots: 2\n",
      "State: 1000100111110110111 | x: 0.9287109375 | sin_x: -0.92578125 | Shots: 1\n",
      "State: 1000100101110111000 | x: 0.9296875 | sin_x: -0.9296875 | Shots: 3\n",
      "State: 1000100101110111010 | x: 0.931640625 | sin_x: -0.9296875 | Shots: 1\n",
      "State: 1000100101110111011 | x: 0.9326171875 | sin_x: -0.9296875 | Shots: 1\n",
      "State: 1000100011110111101 | x: 0.9345703125 | sin_x: -0.93359375 | Shots: 2\n",
      "State: 1000100001111000001 | x: 0.9384765625 | sin_x: -0.9375 | Shots: 1\n",
      "State: 1000100001111000010 | x: 0.939453125 | sin_x: -0.9375 | Shots: 2\n",
      "State: 1000100001111000011 | x: 0.9404296875 | sin_x: -0.9375 | Shots: 1\n",
      "State: 1000011111111000101 | x: 0.9423828125 | sin_x: -0.94140625 | Shots: 2\n",
      "State: 1000011111111000110 | x: 0.943359375 | sin_x: -0.94140625 | Shots: 2\n",
      "State: 1000011111111000111 | x: 0.9443359375 | sin_x: -0.94140625 | Shots: 3\n",
      "State: 1000011101111001000 | x: 0.9453125 | sin_x: -0.9453125 | Shots: 1\n",
      "State: 1000011101111001001 | x: 0.9462890625 | sin_x: -0.9453125 | Shots: 2\n",
      "State: 1000011101111001011 | x: 0.9482421875 | sin_x: -0.9453125 | Shots: 1\n",
      "State: 1000011011111001100 | x: 0.94921875 | sin_x: -0.94921875 | Shots: 1\n",
      "State: 1000011011111001110 | x: 0.951171875 | sin_x: -0.94921875 | Shots: 4\n",
      "State: 1000011011111001111 | x: 0.9521484375 | sin_x: -0.94921875 | Shots: 1\n",
      "State: 1000011001111010000 | x: 0.953125 | sin_x: -0.953125 | Shots: 2\n",
      "State: 1000011001111010001 | x: 0.9541015625 | sin_x: -0.953125 | Shots: 1\n",
      "State: 1000011001111010011 | x: 0.9560546875 | sin_x: -0.953125 | Shots: 1\n",
      "State: 1000010111111010101 | x: 0.9580078125 | sin_x: -0.95703125 | Shots: 1\n",
      "State: 1000010111111010110 | x: 0.958984375 | sin_x: -0.95703125 | Shots: 1\n",
      "State: 1000010111111010111 | x: 0.9599609375 | sin_x: -0.95703125 | Shots: 2\n",
      "State: 1000010101111011010 | x: 0.962890625 | sin_x: -0.9609375 | Shots: 1\n",
      "State: 1000010011111011111 | x: 0.9677734375 | sin_x: -0.96484375 | Shots: 3\n",
      "State: 1000010001111100000 | x: 0.96875 | sin_x: -0.96875 | Shots: 1\n",
      "State: 1000010001111100001 | x: 0.9697265625 | sin_x: -0.96875 | Shots: 2\n",
      "State: 1000010001111100011 | x: 0.9716796875 | sin_x: -0.96875 | Shots: 1\n",
      "State: 1000001111111100110 | x: 0.974609375 | sin_x: -0.97265625 | Shots: 2\n",
      "State: 1000001101111101001 | x: 0.9775390625 | sin_x: -0.9765625 | Shots: 2\n",
      "State: 1000001101111101010 | x: 0.978515625 | sin_x: -0.9765625 | Shots: 2\n",
      "State: 1000001101111101011 | x: 0.9794921875 | sin_x: -0.9765625 | Shots: 4\n",
      "State: 1000001011111101100 | x: 0.98046875 | sin_x: -0.98046875 | Shots: 1\n",
      "State: 1000001011111101101 | x: 0.9814453125 | sin_x: -0.98046875 | Shots: 1\n",
      "State: 1000001011111101110 | x: 0.982421875 | sin_x: -0.98046875 | Shots: 1\n",
      "State: 1000001011111101111 | x: 0.9833984375 | sin_x: -0.98046875 | Shots: 2\n",
      "State: 1000001001111110000 | x: 0.984375 | sin_x: -0.984375 | Shots: 1\n",
      "State: 1000001001111110001 | x: 0.9853515625 | sin_x: -0.984375 | Shots: 2\n",
      "State: 1000001001111110010 | x: 0.986328125 | sin_x: -0.984375 | Shots: 2\n",
      "State: 1000000111111110100 | x: 0.98828125 | sin_x: -0.98828125 | Shots: 2\n",
      "State: 1000000111111110101 | x: 0.9892578125 | sin_x: -0.98828125 | Shots: 4\n",
      "State: 1000000101111111000 | x: 0.9921875 | sin_x: -0.9921875 | Shots: 2\n",
      "State: 1000000101111111001 | x: 0.9931640625 | sin_x: -0.9921875 | Shots: 1\n",
      "State: 1000000101111111011 | x: 0.9951171875 | sin_x: -0.9921875 | Shots: 2\n",
      "State: 1000000011111111100 | x: 0.99609375 | sin_x: -0.99609375 | Shots: 1\n",
      "State: 1000000011111111111 | x: 0.9990234375 | sin_x: -0.99609375 | Shots: 2\n"
     ]
    }
   ],
   "execution_count": 166
  },
  {
   "cell_type": "markdown",
   "id": "1dbd394a-cb94-4bc7-85da-1d7ab3cf1683",
   "metadata": {},
   "source": [
    "In stage 2 of the challenge, the main function should follow this structure and include the additional synthesis constraints:"
   ]
  },
  {
   "cell_type": "code",
   "execution_count": null,
   "id": "15391c15-ede2-44b5-952c-528aaabe28e8",
   "metadata": {},
   "outputs": [],
   "source": [
    "precision_stage_2 = #TODO give your maximal precision parameter value\n",
    "\n",
    "@qfunc\n",
    "def main(x: Output[QNum],sin_x: Output[QNum]):\n",
    "\n",
    "    # A quantum variable which represents fractional numbers is initialized\n",
    "    allocate_num(num_qubits=precision_stage_2,      \n",
    "                is_signed=False,            \n",
    "                fraction_digits=precision_stage_2,\n",
    "                out=x)\n",
    "    \n",
    "    # Creating a uniform superposition of all possible values of the quantum number by using a Hadamard transform\n",
    "    hadamard_transform(x)\n",
    "\n",
    "    # The central function for computing the approximation of sin(x) in the specified domain:\n",
    "    compute_sin(x,sin_x,precision_stage_2)\n",
    "\n",
    "# Generating the model\n",
    "qmod = create_model(main)\n",
    "\n",
    "# Applying the given constraints and backend preferences to the model\n",
    "quantum_model_with_constraints_stage_2 = set_constraints(\n",
    "    qmod, Constraints(optimization_parameter=\"depth\", max_width=127))\n",
    "\n",
    "# Synthesizing the model to a quantum program\n",
    "quantum_program = synthesize(quantum_model_with_constraints_stage_2)\n",
    "show(quantum_program)"
   ]
  },
  {
   "cell_type": "markdown",
   "id": "a48f306d-e85e-41f4-a787-6a4d7598233f",
   "metadata": {},
   "source": [
    "Important note: the synthesized circuit must be named `quantum_program` for the evaluation code to properly present the depth and width of the circuit for this stage!"
   ]
  },
  {
   "cell_type": "markdown",
   "id": "773d5430-0120-4420-bde1-61c6f7c71b0b",
   "metadata": {},
   "source": [
    "## Evaluating Your Code:"
   ]
  },
  {
   "cell_type": "markdown",
   "id": "406f799f-9ee5-48da-992d-e12da6cc1e08",
   "metadata": {},
   "source": [
    "The following test function `evaluate_score_prec` evaluates the difference between your algorithm's approximation of $sin(x)$ and the exact function computed classically using the NumPy package. The metric calculates and returns the maximal distance value between the array of approximated points and the corresponding array of exact values:\n",
    "\n",
    "\n",
    "\n",
    "\n"
   ]
  },
  {
   "cell_type": "code",
   "execution_count": 163,
   "id": "7645e8a8-717f-425f-9524-da1ff07a46a0",
   "metadata": {},
   "outputs": [],
   "source": [
    "import numpy as np\n",
    "\n",
    "def evaluate_score_prec(res, user_input_precision):\n",
    "    \"\"\"\n",
    "    Evaluates the score based on the provided result object `res` and user-specified precision.\n",
    "\n",
    "    Args:\n",
    "        res: The result object containing `parsed_states` and other information.\n",
    "        user_input_precision: The precision level for the evaluation.\n",
    "\n",
    "    Returns:\n",
    "        max_distance: The maximum distance between expected and measured y values.\n",
    "    \"\"\"\n",
    "    # Constants\n",
    "    precision = user_input_precision # Precision value given in hackathon participants' code\n",
    "    domain = np.arange(0, 1, 1 / 2**precision) # generates points in the domain [0,1) based on the calculated_precision\n",
    "    expected_y = np.sin(domain) # Calculates the sin values classically with NumPy\n",
    "\n",
    "    # Extract parsed states\n",
    "    parsed_states = res.parsed_states\n",
    "    \n",
    "    # Sort parsed states by 'x' values\n",
    "    parsed_counts = sorted(parsed_states.items(), key=lambda item: item[1]['x'])\n",
    "    \n",
    "    # Form the dictionary with x and y values\n",
    "    results_dict = {float(s[1]['x']): float(s[1]['sin_x']) for s in parsed_counts}\n",
    "\n",
    "    # Verify all strings were sampled, also no superpositions\n",
    "    assert len(results_dict) == 2 ** user_input_precision, \\\n",
    "        f\"Expected {2 ** user_input_precision} unique states, but got {len(results_dict)}.\"\n",
    "\n",
    "    # Compare hackathon participants' results against classical results\n",
    "    measured_y = []\n",
    "    for x_val in domain:\n",
    "        # Find the floored x value that matches the user precision\n",
    "        x_val_floored = int(x_val * (2 ** user_input_precision)) / (2 ** user_input_precision)\n",
    "        measured_y.append(results_dict.get(x_val_floored, 0))  # Default to 0 if key is missing\n",
    "\n",
    "    # Calculate the maximum distance metric\n",
    "    max_distance = np.max(np.abs(expected_y - np.array(measured_y)))\n",
    "    return max_distance"
   ]
  },
  {
   "cell_type": "code",
   "execution_count": null,
   "id": "b1afae48-066e-4b9c-ab70-e84430a1c598",
   "metadata": {},
   "outputs": [],
   "source": [
    "max_distance = evaluate_score_prec(res, user_input_precision=precision_stage_1) # The score is evaluated based on the results object `res` from the participants' code and `precision_stage_1`\n",
    "print(f\"Maximum Distance: {max_distance}\")"
   ]
  },
  {
   "cell_type": "markdown",
   "id": "d9755544-df59-4530-8bc3-4a27e2926518",
   "metadata": {},
   "source": [
    "Use this code to extract the width and depth of your synthesized circuits:"
   ]
  },
  {
   "cell_type": "code",
   "execution_count": null,
   "id": "de9953b3-be86-4d15-ae8f-4d4476fd68cb",
   "metadata": {},
   "outputs": [],
   "source": [
    "q_program = QuantumProgram.from_qprog(quantum_program) # Gets `quantum_program` from participants' code\n",
    "print('width =',q_program.data.width)\n",
    "print('depth =',q_program.transpiled_circuit.depth)"
   ]
  },
  {
   "cell_type": "markdown",
   "id": "49398fdc-bf7a-4e57-ac37-d18ac36881f6",
   "metadata": {},
   "source": [
    "## Optional Preparation Exercise:"
   ]
  },
  {
   "cell_type": "markdown",
   "id": "1a442ccd-d7f5-4445-8468-3be372f5a36e",
   "metadata": {},
   "source": [
    "This exercise consists of three parts, each adding to the complexity of the previous step.\n",
    "\n",
    "In each part (except the first), a section of the code is missing and marked with #TODO. Your task is to complete the missing code so that the algorithm runs successfully and produces the correct results.\n",
    "\n",
    "If you get stuck at any point, refer to the exercise solutions provided at the end of this notebook :)"
   ]
  },
  {
   "cell_type": "markdown",
   "id": "1e2c5ccd-986e-456c-a073-0ef7d91d31c2",
   "metadata": {},
   "source": [
    "If you haven't installed the Classiq SDK package yet, you need to install it first by running the following line (or through the terminal):"
   ]
  },
  {
   "cell_type": "code",
   "execution_count": null,
   "id": "143f6625-7cdf-4ef1-ae60-965f133dd0bb",
   "metadata": {},
   "outputs": [],
   "source": [
    "!pip install -U classiq"
   ]
  },
  {
   "cell_type": "markdown",
   "id": "62e18bb9-3851-4960-921e-838d6c32d69c",
   "metadata": {},
   "source": [
    "After installation, the final step is to authenticate your device with the Classiq backend:"
   ]
  },
  {
   "cell_type": "code",
   "id": "9f621654-d3e4-4f6b-b71e-254b7ad59e7d",
   "metadata": {
    "ExecuteTime": {
     "end_time": "2024-12-30T09:47:04.862669Z",
     "start_time": "2024-12-30T09:46:48.484617Z"
    }
   },
   "source": [
    "import classiq\n",
    "classiq.authenticate(overwrite=True)"
   ],
   "outputs": [
    {
     "name": "stderr",
     "output_type": "stream",
     "text": [
      "C:\\Users\\Snoopy\\AppData\\Local\\Programs\\Python\\Python311\\Lib\\site-packages\\classiq\\_internals\\authentication\\token_manager.py:93: UserWarning: Overwriting an existing refresh token should only be done if it is compromised. Make sure this operation is necessary, and if not, remove the call to device registration.\n",
      "  warnings.warn(\n"
     ]
    },
    {
     "name": "stdout",
     "output_type": "stream",
     "text": [
      "Your user code: FJJH-QCHZ\n",
      "If a browser doesn't automatically open, please visit this URL from any trusted device: https://auth.classiq.io/activate?user_code=FJJH-QCHZ\n"
     ]
    }
   ],
   "execution_count": 42
  },
  {
   "cell_type": "markdown",
   "id": "92e79fb9-07d2-453a-8bd2-6412f36b9b30",
   "metadata": {},
   "source": [
    "We start by preparing a uniform superposition of quantum states corresponding to fractional numbers in the domain $[0,1)$, with equal spacing intervals of $\\frac{1}{2^K}$, where $K=5$ represents the number of qubits:"
   ]
  },
  {
   "cell_type": "code",
   "id": "89a282e7-c51f-4c0b-bfd0-fb2d77959112",
   "metadata": {
    "ExecuteTime": {
     "end_time": "2024-12-30T09:47:50.280433Z",
     "start_time": "2024-12-30T09:47:48.181408Z"
    }
   },
   "source": [
    "from classiq import *\n",
    "K = 5\n",
    "\n",
    "@qfunc\n",
    "def main(x:Output[QNum]): \n",
    "    allocate_num(num_qubits=K, is_signed=False, fraction_digits=K,out=x) # allocating K unsigned qubits with a precision (number of fraction digits) of K\n",
    "    hadamard_transform(x) # Creating a uniform superposition of the different states of x\n",
    "\n",
    "quantum_model = create_model(main) # Creating the model\n",
    "quantum_program = synthesize(quantum_model) # Synthesizing the model\n",
    "\n",
    "show(quantum_program) # View the circuit visualization in the IDE\n"
   ],
   "outputs": [
    {
     "name": "stdout",
     "output_type": "stream",
     "text": [
      "Opening: https://platform.classiq.io/circuit/77319d97-f812-4b29-bc41-c494835b8e5d?version=0.63.1\n"
     ]
    }
   ],
   "execution_count": 45
  },
  {
   "cell_type": "markdown",
   "id": "54522dff-11d8-45ba-9a10-6a4908a160f3",
   "metadata": {},
   "source": [
    "The built-in `allocate_num` function initializes a quantum variable that can represent different fractional numbers, determined by the number of qubits allocated and the fraction digits defined. By default, `allocate_num` initializes the variable to the $|{0}\\rangle_K$ state. The `hadmard_transform` then creates a superposition of all possible states in the range mentioned above.\n",
    "\n",
    "Note that increasing the number of qubits $K$ in our example improves the precision of the fraction, as the number of decimal places scales with $K$ due to the properties of base-2 representation.\n",
    "\n",
    "\n",
    "\n",
    "\n",
    "\n"
   ]
  },
  {
   "cell_type": "markdown",
   "id": "415d97b8-eb14-4eaf-b5ed-5e72805587c5",
   "metadata": {},
   "source": [
    "Next, we will construct the general linear function $y= ax+b$, where $a=2$ and $b=1$ are classical integer parameters, and $x$ and $y$ are quantum states representing integers:"
   ]
  },
  {
   "cell_type": "code",
   "execution_count": 4,
   "id": "cf461dbd-d36c-4e43-879a-ec762ddf09b3",
   "metadata": {},
   "outputs": [],
   "source": [
    "@qfunc\n",
    "def linear_func(a: CInt, b: CInt, x:QNum, y: Output[QNum]):\n",
    "    y |= a*x+b #Initializing y with the linear function values"
   ]
  },
  {
   "cell_type": "code",
   "execution_count": null,
   "id": "7174f31f-5152-4b35-bcab-70823325e809",
   "metadata": {},
   "outputs": [],
   "source": [
    "@qfunc\n",
    "def main(x:Output[QNum], y: Output[QNum]):\n",
    "    a = 2\n",
    "    b = 1\n",
    "    #TODO initialize x with four (4) qubits and prepare the variable in a uniform superposition.\n",
    "    #TODO use the `linear_func` to output the different corresponding values of x and y\n",
    "\n",
    "qmod = create_model(main)\n",
    "quantum_program = synthesize(qmod)\n",
    "job = execute(quantum_program)\n",
    "job.open_in_ide() # View the resulted histogram in the IDE"
   ]
  },
  {
   "cell_type": "markdown",
   "id": "4082d16a-2dfa-412d-9a11-e5b5da999a94",
   "metadata": {},
   "source": [
    "This operation is performed very elegantly with Classiq, creating the entangled superposition of states $\n",
    "\\sum_{x =0}^{2^4-1}\\ket{x}\\ket{2 x+1}$.\n",
    "\n",
    "Extracting the results through the SDK will yield the corresponding values of $x$ and $y$:"
   ]
  },
  {
   "cell_type": "code",
   "execution_count": null,
   "id": "59aa80aa-8a85-4f82-9809-ed4482e30fa0",
   "metadata": {},
   "outputs": [],
   "source": [
    "result = job.result()\n",
    "parsed_counts = result[0].value.parsed_counts\n",
    "for sampled_state in parsed_counts: print(sampled_state.state)"
   ]
  },
  {
   "cell_type": "markdown",
   "id": "92eae79d-4a7b-4da9-a692-cc7eee82ee90",
   "metadata": {},
   "source": [
    "There are cases that we would like to apply two different linear operations to the same quantum variable $y$. This is not trivial since each arithmetic operation initializes a new quantum variable.\n",
    "\n",
    "This can be carried out by first regularly applying the linear operation to a new variable and then using an XOR operation to pass it to a desired variable. \n",
    "\n"
   ]
  },
  {
   "cell_type": "markdown",
   "id": "44e023e6-ada4-4915-bb16-d20c682c81c2",
   "metadata": {},
   "source": [
    "\n",
    "Let's first define the functional building block:"
   ]
  },
  {
   "cell_type": "code",
   "execution_count": 125,
   "id": "d5e621e4-a15f-45a4-9a8a-819d03889ac0",
   "metadata": {},
   "outputs": [],
   "source": [
    "@qfunc\n",
    "def inplace_linear_operation(a: CInt, b: CInt, x: QNum, y: QNum):\n",
    "    tmp = QNum('tmp')\n",
    "    linear_func(a,b,x,tmp)\n",
    "    inplace_xor(tmp,y) # Bitwise-XOR of a quantum variable with an arithmetic expression"
   ]
  },
  {
   "cell_type": "markdown",
   "id": "d2d43011-8495-4cf7-87f7-e1548dae7196",
   "metadata": {},
   "source": [
    "And continuing to the main function, checking the implementation:"
   ]
  },
  {
   "cell_type": "code",
   "execution_count": null,
   "id": "5be87c25-e2c4-43b8-8502-1ea0c0887225",
   "metadata": {},
   "outputs": [],
   "source": [
    "@qfunc\n",
    "def main(x: Output[QNum],y: Output[QNum]):\n",
    "    a = 1\n",
    "    b = 2\n",
    "\n",
    "    allocate_num(4,False,0,y)\n",
    "    allocate_num(4,False,0,x)\n",
    "    hadamard_transform(x)\n",
    "    inplace_linear_operation(a,b,x,y)\n",
    "\n",
    "qmod = create_model(main)\n",
    "qprog = synthesize(qmod)\n",
    "show(qprog)"
   ]
  },
  {
   "cell_type": "markdown",
   "id": "952d6468-1bc2-4112-8ab7-6fe09999da80",
   "metadata": {},
   "source": [
    "This method is useful for applying a controlled operation on different linear operations. \n",
    "\n",
    "For the last task, we want to add a controlled operation that implements the linear function $\\ket{x}\\rightarrow\\ket{x}\\ket{2x+1}$ for a control state of $|{0}\\rangle $, and implements the linear function $\\ket{x}\\rightarrow\\ket{x}\\ket{x+2}$ if the control state is in the $|{1}\\rangle $ state.\n",
    "\n",
    "To this end, we make use of the `within_apply` statement ([read more](https://docs.classiq.io/latest/qmod-reference/api-reference/operations/?h=within_apply#classiq.qmod.builtins.operations.within_apply)). The `within_apply` statement implements the operation $UVU^{\\dagger}$ where $U$ is only utilized to prepare the state for the action of $V$. After the action of $V$, $U$ is uncomputed by $U^{\\dagger}$. In this case, the linear operation variable serves as a temporary placeholder, initially storing the operation outcomes and subsequently transferring them to the target variable, allowing the linear operation to be uncomputed later.\n",
    "\n",
    "\n",
    "First, we utilize the `within_apply` statement for our case:"
   ]
  },
  {
   "cell_type": "code",
   "execution_count": null,
   "id": "07c49a8f-c1f2-4894-a19f-e17fb6ba4b46",
   "metadata": {},
   "outputs": [],
   "source": [
    "@qfunc\n",
    "def linear_func(a: CInt, b: CInt, x:QNum, y: Output[QNum]):\n",
    "    #TODO write the general expression for the linear operation relevant to the task\n",
    "    \n",
    "@qfunc\n",
    "def inplace_linear_func(a: CInt, b: CInt, x:QNum, y: QNum): # A more efficient bitwise XOR\n",
    "    #TODO declare and initialize the `tmp` variable\n",
    "    within_apply(within= lambda: linear_func(a,b,x,tmp),\n",
    "                apply= lambda: inplace_xor(tmp,y))"
   ]
  },
  {
   "cell_type": "markdown",
   "id": "6bbd002a-c819-499d-8ff5-70f15065516b",
   "metadata": {},
   "source": [
    "Important note: The above two functions become unnecessary when the Classiq native construct `inplace_xor` is leveraged more effectively!  Directly implementing `inplace_xor(a[i]*x+b[i], y)` within the `control_logic` function (defined below) eliminates the need for the `tmp` variable, making the algorithm less costly. \n",
    "\n",
    "#TODO: Implement this yourself after completing the rest of the function and compare between results! \n",
    "\n",
    "\n",
    "\n",
    "\n",
    "\n"
   ]
  },
  {
   "cell_type": "markdown",
   "id": "eef1ddde-696c-4bf8-bd49-7aec443d19d3",
   "metadata": {},
   "source": [
    "Now, we proceed to define the `control_logic` function, implementing an iterative control operation while modifying the $a$ and $b$ coefficients:\n"
   ]
  },
  {
   "cell_type": "code",
   "execution_count": 137,
   "id": "7ee56b14-7f1b-4588-8a5a-26c19ed3a845",
   "metadata": {},
   "outputs": [],
   "source": [
    "@qfunc\n",
    "def control_logic(a: CArray[int], b: CArray[int], controller: QNum, x: QNum, y: QNum): # Implements a repeated control operation, altering a and b\n",
    "    \n",
    "    repeat(count=a.len,         \n",
    "            iteration=lambda i: control(controller==i, lambda: inplace_linear_func(a[i],b[i],x,y)))"
   ]
  },
  {
   "cell_type": "markdown",
   "id": "3ec6e15b-db56-4720-bd93-59564fe16dd3",
   "metadata": {},
   "source": [
    "Finally, we bring all the functions together within the `main` function:\n",
    "\n"
   ]
  },
  {
   "cell_type": "code",
   "execution_count": null,
   "id": "f903ba5d-480d-4a5c-8d73-ce0b29944b1a",
   "metadata": {},
   "outputs": [],
   "source": [
    "@qfunc\n",
    "def main(controller: Output[QNum], x: Output[QNum],y: Output[QNum]):\n",
    "\n",
    "    # Linear polynomial parameters\n",
    "    a = [2,1]\n",
    "    b = [1,2]\n",
    "\n",
    "    # TODO: Initialize x to a uniform superposition in the domain [0,2^4-1], initialize y for the same number of qubits as x\n",
    "    # TODO: initialize the control qubit to a uniform superposition\n",
    "    # TODO: Call the `control_logic` function with correct arguments\n",
    "    \n",
    "qmod = create_model(main)\n",
    "qprog = synthesize(qmod)\n",
    "show(qprog)"
   ]
  },
  {
   "cell_type": "markdown",
   "id": "933ecdc4-53c0-4d49-adda-b9b6d8cb321b",
   "metadata": {},
   "source": [
    "We can now execute the quantum program and extract the results to verify that the algorithm works as intended:\n"
   ]
  },
  {
   "cell_type": "code",
   "execution_count": null,
   "id": "3fa1cddf-f17c-4d4e-bac4-fd223cbf7fce",
   "metadata": {},
   "outputs": [],
   "source": [
    "def print_parsed_counts(job):\n",
    "    results = job.result() # gets results\n",
    "    parsed_counts = results[0].value.parsed_counts\n",
    "    for parsed_state in parsed_counts: print(parsed_state.state)\n",
    "\n",
    "job = execute(qprog)\n",
    "print_parsed_counts(job)"
   ]
  },
  {
   "cell_type": "markdown",
   "id": "6c587875-a4ce-4025-b2d2-203ad5c20948",
   "metadata": {},
   "source": [
    "Note that there could be a rounding and overflow issue— it is impossible to represent the number $2*15+1=31$ using only $4$ binary digits, as the domain $[0,31]$ requires at least 5 bits for representation. See the Classiq [documentation](https://docs.classiq.io/latest/explore/functions/function_usage_examples/arithmetic/arithmetic_expression/arithmetic_expression_example/?h=arithmetic+operators) for further explanations."
   ]
  },
  {
   "cell_type": "markdown",
   "id": "6b871424-ca41-4f0b-bcff-ea69bdb11578",
   "metadata": {},
   "source": [
    "Alternatively, we can use Classiq's powerful synthesis engine to optimize the circuit for minimal width:\n",
    "\n"
   ]
  },
  {
   "cell_type": "code",
   "execution_count": null,
   "id": "a0beb890-e57d-48a4-85ee-cf7a4a4d4dde",
   "metadata": {},
   "outputs": [],
   "source": [
    "constraints = Constraints(optimization_parameter='width')\n",
    "qmod = set_constraints(qmod,constraints)\n",
    "qprog = synthesize(qmod)\n",
    "quantum_program = QuantumProgram.from_qprog(qprog)\n",
    "print('width =',quantum_program.data.width)\n",
    "print('depth =',quantum_program.transpiled_circuit.depth)"
   ]
  },
  {
   "cell_type": "markdown",
   "id": "eabf67c1-b956-4992-91fe-9e4b312274dd",
   "metadata": {},
   "source": [
    "And subsquently compare it to a circuit optimized for minimal depth:"
   ]
  },
  {
   "cell_type": "code",
   "execution_count": null,
   "id": "3d761db6-9b85-4279-8d60-9f7696fcb355",
   "metadata": {},
   "outputs": [],
   "source": [
    "constraints = Constraints(optimization_parameter='depth')\n",
    "qmod = set_constraints(qmod,constraints)\n",
    "qprog = synthesize(qmod)\n",
    "quantum_program = QuantumProgram.from_qprog(qprog)\n",
    "print('width =',quantum_program.data.width)\n",
    "print('depth =',quantum_program.transpiled_circuit.depth)"
   ]
  },
  {
   "cell_type": "markdown",
   "id": "d7c6bad0-6a73-47eb-8fbe-db2b7850d42d",
   "metadata": {
    "jp-MarkdownHeadingCollapsed": true
   },
   "source": [
    "Here, we can clearly observe the power of high-level functional design!\n",
    "\n",
    "The same algorithm with identical functionality has been optimized for width, resulting in a far more qubit-efficient circuit, compared to the depth-optimized circuit. While the depth-optimized circuit utilizes more qubits to achieve a shallower design, both circuits ultimately implement the same functionality.\n",
    "\n",
    "\n",
    "\n",
    "\n",
    "\n",
    "\n"
   ]
  },
  {
   "cell_type": "markdown",
   "id": "b0ddaac6-cf40-4a1f-9993-811d89f5e27d",
   "metadata": {},
   "source": [
    "## Solutions to the Optional Preparation Exercise:"
   ]
  },
  {
   "cell_type": "markdown",
   "id": "8fe82edc-980f-4a6b-90cc-97868bfed861",
   "metadata": {},
   "source": [
    "Second task (building a linear function):"
   ]
  },
  {
   "cell_type": "code",
   "execution_count": 2,
   "id": "2d059068-85d4-455f-9c3c-0586a9df6020",
   "metadata": {},
   "outputs": [],
   "source": [
    "from classiq import *"
   ]
  },
  {
   "cell_type": "code",
   "execution_count": null,
   "id": "870aa107-4b33-4dcc-b350-b3ddef810de0",
   "metadata": {},
   "outputs": [],
   "source": [
    "@qfunc\n",
    "def linear_func(a: CInt, b: CInt, x:QNum, y: Output[QNum]):\n",
    "    y |= a*x+b\n",
    "    \n",
    "@qfunc\n",
    "def main(x:Output[QNum], y: Output[QNum]):\n",
    "    a = 2\n",
    "    b = 1\n",
    "    allocate_num(num_qubits=4,is_signed=False,fraction_digits=0,out=x)\n",
    "    hadamard_transform(x)\n",
    "    linear_func(a,b,x,y)\n",
    "\n",
    "qmod = create_model(main)\n",
    "quantum_program = synthesize(qmod)\n",
    "show(quantum_program)\n",
    "job = execute(quantum_program)\n",
    "job.open_in_ide() # View the resulting histogram in the IDE"
   ]
  },
  {
   "cell_type": "markdown",
   "id": "db5750f9-cd31-40ec-b6e8-d9172b31ff67",
   "metadata": {},
   "source": [
    "Third task (applying two different linear operations to a target variable in a controlled manner), without making use of the `tmp` variable:"
   ]
  },
  {
   "cell_type": "code",
   "execution_count": null,
   "id": "0220ca3b-4e4e-4a75-a14a-34c2d167644d",
   "metadata": {},
   "outputs": [],
   "source": [
    "@qfunc\n",
    "def control_logic(a: CArray[int], b: CArray[int], controller: QNum, x: QNum, y: QNum):\n",
    "    \n",
    "    repeat(count=a.len,         \n",
    "            iteration=lambda i: control(controller==i, lambda: inplace_xor(a[i]*x+b[i],y)))\n",
    "\n",
    "@qfunc\n",
    "def main(controller: Output[QNum], x: Output[QNum],y: Output[QNum]):\n",
    "\n",
    "    # Linear polynomial parameters\n",
    "    a = [2,1]\n",
    "    b = [1,2]\n",
    "\n",
    "\n",
    "    # Initializing x to a superposition in the domain [0,2^4-1]\n",
    "    allocate_num(4,False,0,x)\n",
    "    hadamard_transform(x)\n",
    "    \n",
    "    #Initialize y\n",
    "    allocate_num(4,False,0,y)\n",
    "\n",
    "    # Setting the controller in a superposition\n",
    "    allocate_num(1,False,0,controller)\n",
    "    H(controller)\n",
    "\n",
    "    # Implementing the control logic\n",
    "    control_logic(a,b,controller,x,y)\n",
    "\n",
    "    \n",
    "qmod = create_model(main)\n",
    "qprog = synthesize(qmod)\n",
    "show(qprog)\n",
    "\n",
    "def print_parsed_counts(job):\n",
    "    results = job.result()\n",
    "    parsed_counts = results[0].value.parsed_counts\n",
    "    for parsed_state in parsed_counts: print(parsed_state.state)\n",
    "\n",
    "job = execute(qprog)\n",
    "print_parsed_counts(job)\n",
    "\n",
    "constraints = Constraints(optimization_parameter='width')\n",
    "qmod = set_constraints(qmod,constraints)\n",
    "qprog = synthesize(qmod)\n",
    "quantum_program = QuantumProgram.from_qprog(qprog)\n",
    "print('width (optimized for width) =',quantum_program.data.width)\n",
    "print('depth (optimized for width) =',quantum_program.transpiled_circuit.depth)\n",
    "\n",
    "constraints = Constraints(optimization_parameter='depth')\n",
    "qmod = set_constraints(qmod,constraints)\n",
    "qprog = synthesize(qmod)\n",
    "quantum_program = QuantumProgram.from_qprog(qprog)\n",
    "print('width (optimized for depth)=',quantum_program.data.width)\n",
    "print('depth (optimized for depth)=',quantum_program.transpiled_circuit.depth)"
   ]
  },
  {
   "cell_type": "markdown",
   "id": "4740c793-05a5-4a9f-8fb1-69c5c8805e78",
   "metadata": {},
   "source": [
    "Note that this code might not be visualizable with the new visualization. If this is the case, you can switch to the old visualization to observe the building blocks.\n"
   ]
  }
 ],
 "metadata": {
  "kernelspec": {
   "display_name": "Python 3 (ipykernel)",
   "language": "python",
   "name": "python3"
  },
  "language_info": {
   "codemirror_mode": {
    "name": "ipython",
    "version": 3
   },
   "file_extension": ".py",
   "mimetype": "text/x-python",
   "name": "python",
   "nbconvert_exporter": "python",
   "pygments_lexer": "ipython3",
   "version": "3.11.7"
  }
 },
 "nbformat": 4,
 "nbformat_minor": 5
}
